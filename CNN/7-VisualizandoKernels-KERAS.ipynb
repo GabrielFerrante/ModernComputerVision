{
 "cells": [
  {
   "cell_type": "markdown",
   "id": "d673c41d",
   "metadata": {},
   "source": [
    "# **Visualizando o que as CNNs aprendem**\n",
    "\n",
    "Iremo usar o **Keras com um TensorFlow 2.0** para visualizar o seguinte (veja abaixo). Isso o ajuda a entender melhor o que está acontecendo nos bastidores e a desmistificar alguns dos aspectos da aprendizagem profunda.\n",
    "1. Treinamento de uma CNN básica no conjunto de dados MNIST\n",
    "2. Visualizar seus filtros\n",
    "3. Visualizar as ativações do filtro à medida que propagamos uma imagem de entrada"
   ]
  },
  {
   "cell_type": "markdown",
   "id": "d173edd3-c2ce-48a4-8519-c6e24f82dc1d",
   "metadata": {},
   "source": [
    "# **Training a Basic CNN on the MNIST Dataset**"
   ]
  },
  {
   "cell_type": "code",
   "execution_count": null,
   "id": "133b02fa-9eb2-4571-9d96-6ffd089f97f8",
   "metadata": {},
   "outputs": [
    {
     "name": "stderr",
     "output_type": "stream",
     "text": [
      "2025-05-12 22:59:20.557480: E external/local_xla/xla/stream_executor/cuda/cuda_fft.cc:467] Unable to register cuFFT factory: Attempting to register factory for plugin cuFFT when one has already been registered\n",
      "WARNING: All log messages before absl::InitializeLog() is called are written to STDERR\n",
      "E0000 00:00:1747101560.724828     634 cuda_dnn.cc:8579] Unable to register cuDNN factory: Attempting to register factory for plugin cuDNN when one has already been registered\n",
      "E0000 00:00:1747101560.769730     634 cuda_blas.cc:1407] Unable to register cuBLAS factory: Attempting to register factory for plugin cuBLAS when one has already been registered\n",
      "W0000 00:00:1747101561.158223     634 computation_placer.cc:177] computation placer already registered. Please check linkage and avoid linking the same target more than once.\n",
      "W0000 00:00:1747101561.158244     634 computation_placer.cc:177] computation placer already registered. Please check linkage and avoid linking the same target more than once.\n",
      "W0000 00:00:1747101561.158245     634 computation_placer.cc:177] computation placer already registered. Please check linkage and avoid linking the same target more than once.\n",
      "W0000 00:00:1747101561.158246     634 computation_placer.cc:177] computation placer already registered. Please check linkage and avoid linking the same target more than once.\n",
      "2025-05-12 22:59:21.202416: I tensorflow/core/platform/cpu_feature_guard.cc:210] This TensorFlow binary is optimized to use available CPU instructions in performance-critical operations.\n",
      "To enable the following instructions: AVX2 FMA, in other operations, rebuild TensorFlow with the appropriate compiler flags.\n"
     ]
    },
    {
     "name": "stdout",
     "output_type": "stream",
     "text": [
      "[name: \"/device:CPU:0\"\n",
      "device_type: \"CPU\"\n",
      "memory_limit: 268435456\n",
      "locality {\n",
      "}\n",
      "incarnation: 3833323841570188388\n",
      "xla_global_id: -1\n",
      ", name: \"/device:GPU:0\"\n",
      "device_type: \"GPU\"\n",
      "memory_limit: 5905580032\n",
      "locality {\n",
      "  bus_id: 1\n",
      "  links {\n",
      "  }\n",
      "}\n",
      "incarnation: 12590055227250234171\n",
      "physical_device_desc: \"device: 0, name: NVIDIA GeForce RTX 3060, pci bus id: 0000:01:00.0, compute capability: 8.6\"\n",
      "xla_global_id: 416903419\n",
      "]\n",
      "Initial shape or dimensions of x_train (60000, 28, 28)\n",
      "Number of samples in our training data: 60000\n",
      "Number of labels in our training data: 60000\n",
      "Number of samples in our test data: 10000\n",
      "Number of labels in our test data: 10000\n",
      "\n",
      "\n",
      "Dimensions of x_train:(28, 28)\n",
      "Labels in x_train:(60000,)\n",
      "\n",
      "\n",
      "Dimensions of x_test:(28, 28)\n",
      "Labels in y_test:(10000,)\n"
     ]
    },
    {
     "name": "stderr",
     "output_type": "stream",
     "text": [
      "I0000 00:00:1747101569.394623     634 gpu_device.cc:2019] Created device /device:GPU:0 with 5632 MB memory:  -> device: 0, name: NVIDIA GeForce RTX 3060, pci bus id: 0000:01:00.0, compute capability: 8.6\n"
     ]
    }
   ],
   "source": [
    "\n",
    "from tensorflow.keras.datasets import mnist\n",
    "\n",
    "\n",
    "(x_train, y_train), (x_test, y_test)  = mnist.load_data()\n",
    "\n",
    "\n",
    "from tensorflow.python.client import device_lib\n",
    "\n",
    "print(device_lib.list_local_devices())\n",
    "\n",
    "\n",
    "print(\"Forma ou dimensões iniciais do x_train\", str(x_train.shape))\n",
    "\n",
    "print (\"Número de amostras em nossos dados de treinamento: \" + str(len(x_train)))\n",
    "print (\"Número de rótulos em nossos dados de treinamento:\" + str(len(y_train)))\n",
    "print (\"Número de amostras em nossos dados de teste:  \" + str(len(x_test)))\n",
    "print (\"Número de rótulos em nossos dados de teste: \" + str(len(y_test)))\n",
    "\n",
    "print(\"\\n\")\n",
    "print (\"Dimensões de x_train:\" + str(x_train[0].shape))\n",
    "print (\"Rótulos em x_train:\" + str(y_train.shape))\n",
    "print(\"\\n\")\n",
    "print (\"Dimensões de x_test:\" + str(x_test[0].shape))\n",
    "print (\"Rótulos em y_test:\" + str(y_test.shape))"
   ]
  },
  {
   "cell_type": "code",
   "execution_count": null,
   "id": "8c846482-b8ff-4515-bcbc-d27298dc4faa",
   "metadata": {},
   "outputs": [
    {
     "name": "stdout",
     "output_type": "stream",
     "text": [
      "x_train shape: (60000, 28, 28, 1)\n",
      "60000 train samples\n",
      "10000 test samples\n",
      "Number of Classes: 10\n"
     ]
    }
   ],
   "source": [
    "\n",
    "img_rows = x_train[0].shape[0]\n",
    "img_cols = x_train[0].shape[1]\n",
    "\n",
    "# Obtendo nossos dados na “forma” correta necessária para o Keras\n",
    "# Precisamos adicionar uma quarta dimensão aos nossos dados, alterando assim nossa\n",
    "# Nossa forma de imagem original de (60000,28,28) para (60000,28,28,1)\n",
    "x_train = x_train.reshape(x_train.shape[0], img_rows, img_cols, 1)\n",
    "x_test = x_test.reshape(x_test.shape[0], img_rows, img_cols, 1)\n",
    "\n",
    "# Armazenar a forma de uma única imagem \n",
    "input_shape = (img_rows, img_cols, 1)\n",
    "\n",
    "# Altere nosso tipo de imagem para o tipo de dados float32\n",
    "x_train = x_train.astype('float32') #uint8 originally\n",
    "x_test = x_test.astype('float32')\n",
    "\n",
    "# Normalize nossos dados alterando o intervalo de (0 a 255) para (0 a 1)\n",
    "x_train /= 255.0\n",
    "x_test /= 255.0\n",
    "\n",
    "print('x_train shape:', x_train.shape)\n",
    "print(x_train.shape[0], 'train samples')\n",
    "print(x_test.shape[0], 'test samples')\n",
    "\n",
    "from tensorflow.keras.utils import to_categorical\n",
    "\n",
    "# aplicando o onehot encoder\n",
    "y_train = to_categorical(y_train)\n",
    "y_test = to_categorical(y_test)\n",
    "\n",
    "\n",
    "print (\"Number of Classes: \" + str(y_test.shape[1]))\n",
    "\n",
    "num_classes = y_test.shape[1]\n",
    "num_pixels = x_train.shape[1] * x_train.shape[2]"
   ]
  },
  {
   "cell_type": "markdown",
   "id": "6d3a982f-1733-452e-b9f5-0b19d1bd06b0",
   "metadata": {},
   "source": [
    "**Arquitetura**"
   ]
  },
  {
   "cell_type": "code",
   "execution_count": 3,
   "id": "5e1ae791-2f90-4714-a91b-414a2488bd49",
   "metadata": {},
   "outputs": [
    {
     "name": "stderr",
     "output_type": "stream",
     "text": [
      "/home/gabs/.local/lib/python3.12/site-packages/keras/src/layers/convolutional/base_conv.py:107: UserWarning: Do not pass an `input_shape`/`input_dim` argument to a layer. When using Sequential models, prefer using an `Input(shape)` object as the first layer in the model instead.\n",
      "  super().__init__(activity_regularizer=activity_regularizer, **kwargs)\n",
      "I0000 00:00:1747101651.728485     634 gpu_device.cc:2019] Created device /job:localhost/replica:0/task:0/device:GPU:0 with 5632 MB memory:  -> device: 0, name: NVIDIA GeForce RTX 3060, pci bus id: 0000:01:00.0, compute capability: 8.6\n"
     ]
    },
    {
     "data": {
      "text/html": [
       "<pre style=\"white-space:pre;overflow-x:auto;line-height:normal;font-family:Menlo,'DejaVu Sans Mono',consolas,'Courier New',monospace\"><span style=\"font-weight: bold\">Model: \"sequential\"</span>\n",
       "</pre>\n"
      ],
      "text/plain": [
       "\u001b[1mModel: \"sequential\"\u001b[0m\n"
      ]
     },
     "metadata": {},
     "output_type": "display_data"
    },
    {
     "data": {
      "text/html": [
       "<pre style=\"white-space:pre;overflow-x:auto;line-height:normal;font-family:Menlo,'DejaVu Sans Mono',consolas,'Courier New',monospace\">┏━━━━━━━━━━━━━━━━━━━━━━━━━━━━━━━━━┳━━━━━━━━━━━━━━━━━━━━━━━━┳━━━━━━━━━━━━━━━┓\n",
       "┃<span style=\"font-weight: bold\"> Layer (type)                    </span>┃<span style=\"font-weight: bold\"> Output Shape           </span>┃<span style=\"font-weight: bold\">       Param # </span>┃\n",
       "┡━━━━━━━━━━━━━━━━━━━━━━━━━━━━━━━━━╇━━━━━━━━━━━━━━━━━━━━━━━━╇━━━━━━━━━━━━━━━┩\n",
       "│ conv2d (<span style=\"color: #0087ff; text-decoration-color: #0087ff\">Conv2D</span>)                 │ (<span style=\"color: #00d7ff; text-decoration-color: #00d7ff\">None</span>, <span style=\"color: #00af00; text-decoration-color: #00af00\">26</span>, <span style=\"color: #00af00; text-decoration-color: #00af00\">26</span>, <span style=\"color: #00af00; text-decoration-color: #00af00\">32</span>)     │           <span style=\"color: #00af00; text-decoration-color: #00af00\">320</span> │\n",
       "├─────────────────────────────────┼────────────────────────┼───────────────┤\n",
       "│ conv2d_1 (<span style=\"color: #0087ff; text-decoration-color: #0087ff\">Conv2D</span>)               │ (<span style=\"color: #00d7ff; text-decoration-color: #00d7ff\">None</span>, <span style=\"color: #00af00; text-decoration-color: #00af00\">24</span>, <span style=\"color: #00af00; text-decoration-color: #00af00\">24</span>, <span style=\"color: #00af00; text-decoration-color: #00af00\">64</span>)     │        <span style=\"color: #00af00; text-decoration-color: #00af00\">18,496</span> │\n",
       "├─────────────────────────────────┼────────────────────────┼───────────────┤\n",
       "│ max_pooling2d (<span style=\"color: #0087ff; text-decoration-color: #0087ff\">MaxPooling2D</span>)    │ (<span style=\"color: #00d7ff; text-decoration-color: #00d7ff\">None</span>, <span style=\"color: #00af00; text-decoration-color: #00af00\">12</span>, <span style=\"color: #00af00; text-decoration-color: #00af00\">12</span>, <span style=\"color: #00af00; text-decoration-color: #00af00\">64</span>)     │             <span style=\"color: #00af00; text-decoration-color: #00af00\">0</span> │\n",
       "├─────────────────────────────────┼────────────────────────┼───────────────┤\n",
       "│ flatten (<span style=\"color: #0087ff; text-decoration-color: #0087ff\">Flatten</span>)               │ (<span style=\"color: #00d7ff; text-decoration-color: #00d7ff\">None</span>, <span style=\"color: #00af00; text-decoration-color: #00af00\">9216</span>)           │             <span style=\"color: #00af00; text-decoration-color: #00af00\">0</span> │\n",
       "├─────────────────────────────────┼────────────────────────┼───────────────┤\n",
       "│ dense (<span style=\"color: #0087ff; text-decoration-color: #0087ff\">Dense</span>)                   │ (<span style=\"color: #00d7ff; text-decoration-color: #00d7ff\">None</span>, <span style=\"color: #00af00; text-decoration-color: #00af00\">128</span>)            │     <span style=\"color: #00af00; text-decoration-color: #00af00\">1,179,776</span> │\n",
       "├─────────────────────────────────┼────────────────────────┼───────────────┤\n",
       "│ dense_1 (<span style=\"color: #0087ff; text-decoration-color: #0087ff\">Dense</span>)                 │ (<span style=\"color: #00d7ff; text-decoration-color: #00d7ff\">None</span>, <span style=\"color: #00af00; text-decoration-color: #00af00\">10</span>)             │         <span style=\"color: #00af00; text-decoration-color: #00af00\">1,290</span> │\n",
       "└─────────────────────────────────┴────────────────────────┴───────────────┘\n",
       "</pre>\n"
      ],
      "text/plain": [
       "┏━━━━━━━━━━━━━━━━━━━━━━━━━━━━━━━━━┳━━━━━━━━━━━━━━━━━━━━━━━━┳━━━━━━━━━━━━━━━┓\n",
       "┃\u001b[1m \u001b[0m\u001b[1mLayer (type)                   \u001b[0m\u001b[1m \u001b[0m┃\u001b[1m \u001b[0m\u001b[1mOutput Shape          \u001b[0m\u001b[1m \u001b[0m┃\u001b[1m \u001b[0m\u001b[1m      Param #\u001b[0m\u001b[1m \u001b[0m┃\n",
       "┡━━━━━━━━━━━━━━━━━━━━━━━━━━━━━━━━━╇━━━━━━━━━━━━━━━━━━━━━━━━╇━━━━━━━━━━━━━━━┩\n",
       "│ conv2d (\u001b[38;5;33mConv2D\u001b[0m)                 │ (\u001b[38;5;45mNone\u001b[0m, \u001b[38;5;34m26\u001b[0m, \u001b[38;5;34m26\u001b[0m, \u001b[38;5;34m32\u001b[0m)     │           \u001b[38;5;34m320\u001b[0m │\n",
       "├─────────────────────────────────┼────────────────────────┼───────────────┤\n",
       "│ conv2d_1 (\u001b[38;5;33mConv2D\u001b[0m)               │ (\u001b[38;5;45mNone\u001b[0m, \u001b[38;5;34m24\u001b[0m, \u001b[38;5;34m24\u001b[0m, \u001b[38;5;34m64\u001b[0m)     │        \u001b[38;5;34m18,496\u001b[0m │\n",
       "├─────────────────────────────────┼────────────────────────┼───────────────┤\n",
       "│ max_pooling2d (\u001b[38;5;33mMaxPooling2D\u001b[0m)    │ (\u001b[38;5;45mNone\u001b[0m, \u001b[38;5;34m12\u001b[0m, \u001b[38;5;34m12\u001b[0m, \u001b[38;5;34m64\u001b[0m)     │             \u001b[38;5;34m0\u001b[0m │\n",
       "├─────────────────────────────────┼────────────────────────┼───────────────┤\n",
       "│ flatten (\u001b[38;5;33mFlatten\u001b[0m)               │ (\u001b[38;5;45mNone\u001b[0m, \u001b[38;5;34m9216\u001b[0m)           │             \u001b[38;5;34m0\u001b[0m │\n",
       "├─────────────────────────────────┼────────────────────────┼───────────────┤\n",
       "│ dense (\u001b[38;5;33mDense\u001b[0m)                   │ (\u001b[38;5;45mNone\u001b[0m, \u001b[38;5;34m128\u001b[0m)            │     \u001b[38;5;34m1,179,776\u001b[0m │\n",
       "├─────────────────────────────────┼────────────────────────┼───────────────┤\n",
       "│ dense_1 (\u001b[38;5;33mDense\u001b[0m)                 │ (\u001b[38;5;45mNone\u001b[0m, \u001b[38;5;34m10\u001b[0m)             │         \u001b[38;5;34m1,290\u001b[0m │\n",
       "└─────────────────────────────────┴────────────────────────┴───────────────┘\n"
      ]
     },
     "metadata": {},
     "output_type": "display_data"
    },
    {
     "data": {
      "text/html": [
       "<pre style=\"white-space:pre;overflow-x:auto;line-height:normal;font-family:Menlo,'DejaVu Sans Mono',consolas,'Courier New',monospace\"><span style=\"font-weight: bold\"> Total params: </span><span style=\"color: #00af00; text-decoration-color: #00af00\">1,199,882</span> (4.58 MB)\n",
       "</pre>\n"
      ],
      "text/plain": [
       "\u001b[1m Total params: \u001b[0m\u001b[38;5;34m1,199,882\u001b[0m (4.58 MB)\n"
      ]
     },
     "metadata": {},
     "output_type": "display_data"
    },
    {
     "data": {
      "text/html": [
       "<pre style=\"white-space:pre;overflow-x:auto;line-height:normal;font-family:Menlo,'DejaVu Sans Mono',consolas,'Courier New',monospace\"><span style=\"font-weight: bold\"> Trainable params: </span><span style=\"color: #00af00; text-decoration-color: #00af00\">1,199,882</span> (4.58 MB)\n",
       "</pre>\n"
      ],
      "text/plain": [
       "\u001b[1m Trainable params: \u001b[0m\u001b[38;5;34m1,199,882\u001b[0m (4.58 MB)\n"
      ]
     },
     "metadata": {},
     "output_type": "display_data"
    },
    {
     "data": {
      "text/html": [
       "<pre style=\"white-space:pre;overflow-x:auto;line-height:normal;font-family:Menlo,'DejaVu Sans Mono',consolas,'Courier New',monospace\"><span style=\"font-weight: bold\"> Non-trainable params: </span><span style=\"color: #00af00; text-decoration-color: #00af00\">0</span> (0.00 B)\n",
       "</pre>\n"
      ],
      "text/plain": [
       "\u001b[1m Non-trainable params: \u001b[0m\u001b[38;5;34m0\u001b[0m (0.00 B)\n"
      ]
     },
     "metadata": {},
     "output_type": "display_data"
    },
    {
     "name": "stdout",
     "output_type": "stream",
     "text": [
      "None\n"
     ]
    }
   ],
   "source": [
    "from tensorflow.keras.models import Sequential\n",
    "from tensorflow.keras.layers import Dense, Dropout, Flatten\n",
    "from tensorflow.keras.layers import Conv2D, MaxPooling2D\n",
    "from tensorflow.keras import backend as K\n",
    "from tensorflow.keras.optimizers import SGD \n",
    "\n",
    "model = Sequential()\n",
    "model.add(Conv2D(32, kernel_size=(3, 3), activation='relu', input_shape=input_shape))\n",
    "model.add(Conv2D(64, (3, 3), activation='relu'))\n",
    "model.add(MaxPooling2D(pool_size=(2, 2)))\n",
    "model.add(Flatten())\n",
    "model.add(Dense(128, activation='relu'))\n",
    "model.add(Dense(num_classes, activation='softmax'))\n",
    "\n",
    "model.compile(loss = 'categorical_crossentropy',\n",
    "              optimizer = SGD(0.001),\n",
    "              metrics = ['accuracy'])\n",
    "\n",
    "print(model.summary())"
   ]
  },
  {
   "cell_type": "code",
   "execution_count": null,
   "id": "38c90be4-abea-4c37-9d80-6541b078dadb",
   "metadata": {},
   "outputs": [
    {
     "name": "stdout",
     "output_type": "stream",
     "text": [
      "Epoch 1/10\n"
     ]
    },
    {
     "name": "stderr",
     "output_type": "stream",
     "text": [
      "WARNING: All log messages before absl::InitializeLog() is called are written to STDERR\n",
      "I0000 00:00:1747101670.265853     812 service.cc:152] XLA service 0x7f814c003e20 initialized for platform CUDA (this does not guarantee that XLA will be used). Devices:\n",
      "I0000 00:00:1747101670.265890     812 service.cc:160]   StreamExecutor device (0): NVIDIA GeForce RTX 3060, Compute Capability 8.6\n",
      "2025-05-12 23:01:10.422843: I tensorflow/compiler/mlir/tensorflow/utils/dump_mlir_util.cc:269] disabling MLIR crash reproducer, set env var `MLIR_CRASH_REPRODUCER_DIRECTORY` to enable.\n",
      "I0000 00:00:1747101670.538059     812 cuda_dnn.cc:529] Loaded cuDNN version 90300\n",
      "2025-05-12 23:01:11.804061: I external/local_xla/xla/stream_executor/cuda/subprocess_compilation.cc:346] ptxas warning : Registers are spilled to local memory in function 'gemm_fusion_dot_140', 4 bytes spill stores, 4 bytes spill loads\n",
      "\n",
      "2025-05-12 23:01:12.534611: I external/local_xla/xla/stream_executor/cuda/subprocess_compilation.cc:346] ptxas warning : Registers are spilled to local memory in function 'gemm_fusion_dot_318', 1384 bytes spill stores, 1384 bytes spill loads\n",
      "\n",
      "2025-05-12 23:01:12.942731: I external/local_xla/xla/stream_executor/cuda/subprocess_compilation.cc:346] ptxas warning : Registers are spilled to local memory in function 'gemm_fusion_dot_318', 716 bytes spill stores, 592 bytes spill loads\n",
      "\n",
      "2025-05-12 23:01:12.985695: I external/local_xla/xla/stream_executor/cuda/subprocess_compilation.cc:346] ptxas warning : Registers are spilled to local memory in function 'gemm_fusion_dot_318', 396 bytes spill stores, 396 bytes spill loads\n",
      "\n",
      "2025-05-12 23:01:13.020287: I external/local_xla/xla/stream_executor/cuda/subprocess_compilation.cc:346] ptxas warning : Registers are spilled to local memory in function 'gemm_fusion_dot_318', 616 bytes spill stores, 520 bytes spill loads\n",
      "\n"
     ]
    },
    {
     "name": "stdout",
     "output_type": "stream",
     "text": [
      "\u001b[1m 32/469\u001b[0m \u001b[32m━\u001b[0m\u001b[37m━━━━━━━━━━━━━━━━━━━\u001b[0m \u001b[1m2s\u001b[0m 5ms/step - accuracy: 0.1420 - loss: 2.2978"
     ]
    },
    {
     "name": "stderr",
     "output_type": "stream",
     "text": [
      "I0000 00:00:1747101675.343988     812 device_compiler.h:188] Compiled cluster using XLA!  This line is logged at most once for the lifetime of the process.\n"
     ]
    },
    {
     "name": "stdout",
     "output_type": "stream",
     "text": [
      "\u001b[1m464/469\u001b[0m \u001b[32m━━━━━━━━━━━━━━━━━━━\u001b[0m\u001b[37m━\u001b[0m \u001b[1m0s\u001b[0m 5ms/step - accuracy: 0.2511 - loss: 2.2616"
     ]
    },
    {
     "name": "stderr",
     "output_type": "stream",
     "text": [
      "2025-05-12 23:01:18.576930: I external/local_xla/xla/stream_executor/cuda/subprocess_compilation.cc:346] ptxas warning : Registers are spilled to local memory in function 'gemm_fusion_dot_320', 88 bytes spill stores, 88 bytes spill loads\n",
      "\n",
      "2025-05-12 23:01:19.101350: I external/local_xla/xla/stream_executor/cuda/subprocess_compilation.cc:346] ptxas warning : Registers are spilled to local memory in function 'gemm_fusion_dot_318', 188 bytes spill stores, 188 bytes spill loads\n",
      "\n",
      "2025-05-12 23:01:19.472078: I external/local_xla/xla/stream_executor/cuda/subprocess_compilation.cc:346] ptxas warning : Registers are spilled to local memory in function 'gemm_fusion_dot_318', 496 bytes spill stores, 496 bytes spill loads\n",
      "\n",
      "2025-05-12 23:01:19.718615: I external/local_xla/xla/stream_executor/cuda/subprocess_compilation.cc:346] ptxas warning : Registers are spilled to local memory in function 'gemm_fusion_dot_318', 784 bytes spill stores, 784 bytes spill loads\n",
      "\n",
      "2025-05-12 23:01:19.861655: I external/local_xla/xla/stream_executor/cuda/subprocess_compilation.cc:346] ptxas warning : Registers are spilled to local memory in function 'gemm_fusion_dot_318', 476 bytes spill stores, 440 bytes spill loads\n",
      "\n",
      "2025-05-12 23:01:19.944517: I external/local_xla/xla/stream_executor/cuda/subprocess_compilation.cc:346] ptxas warning : Registers are spilled to local memory in function 'gemm_fusion_dot_318', 124 bytes spill stores, 124 bytes spill loads\n",
      "\n",
      "2025-05-12 23:01:20.121830: I external/local_xla/xla/stream_executor/cuda/subprocess_compilation.cc:346] ptxas warning : Registers are spilled to local memory in function 'gemm_fusion_dot_318', 1720 bytes spill stores, 1688 bytes spill loads\n",
      "\n",
      "2025-05-12 23:01:20.166733: I external/local_xla/xla/stream_executor/cuda/subprocess_compilation.cc:346] ptxas warning : Registers are spilled to local memory in function 'gemm_fusion_dot_318', 580 bytes spill stores, 580 bytes spill loads\n",
      "\n",
      "2025-05-12 23:01:20.233622: I external/local_xla/xla/stream_executor/cuda/subprocess_compilation.cc:346] ptxas warning : Registers are spilled to local memory in function 'gemm_fusion_dot_318', 716 bytes spill stores, 592 bytes spill loads\n",
      "\n"
     ]
    },
    {
     "name": "stdout",
     "output_type": "stream",
     "text": [
      "\u001b[1m469/469\u001b[0m \u001b[32m━━━━━━━━━━━━━━━━━━━━\u001b[0m\u001b[37m\u001b[0m \u001b[1m13s\u001b[0m 16ms/step - accuracy: 0.2528 - loss: 2.2610 - val_accuracy: 0.6099 - val_loss: 2.0773\n",
      "Epoch 2/10\n",
      "\u001b[1m469/469\u001b[0m \u001b[32m━━━━━━━━━━━━━━━━━━━━\u001b[0m\u001b[37m\u001b[0m \u001b[1m5s\u001b[0m 12ms/step - accuracy: 0.6679 - loss: 1.9010 - val_accuracy: 0.7996 - val_loss: 1.0200\n",
      "Epoch 3/10\n",
      "\u001b[1m469/469\u001b[0m \u001b[32m━━━━━━━━━━━━━━━━━━━━\u001b[0m\u001b[37m\u001b[0m \u001b[1m3s\u001b[0m 5ms/step - accuracy: 0.8107 - loss: 0.8478 - val_accuracy: 0.8676 - val_loss: 0.5037\n",
      "Epoch 4/10\n",
      "\u001b[1m469/469\u001b[0m \u001b[32m━━━━━━━━━━━━━━━━━━━━\u001b[0m\u001b[37m\u001b[0m \u001b[1m2s\u001b[0m 5ms/step - accuracy: 0.8673 - loss: 0.4899 - val_accuracy: 0.8928 - val_loss: 0.3907\n",
      "Epoch 5/10\n",
      "\u001b[1m469/469\u001b[0m \u001b[32m━━━━━━━━━━━━━━━━━━━━\u001b[0m\u001b[37m\u001b[0m \u001b[1m2s\u001b[0m 5ms/step - accuracy: 0.8891 - loss: 0.3955 - val_accuracy: 0.9056 - val_loss: 0.3430\n",
      "Epoch 6/10\n",
      "\u001b[1m469/469\u001b[0m \u001b[32m━━━━━━━━━━━━━━━━━━━━\u001b[0m\u001b[37m\u001b[0m \u001b[1m2s\u001b[0m 5ms/step - accuracy: 0.8997 - loss: 0.3518 - val_accuracy: 0.9107 - val_loss: 0.3139\n",
      "Epoch 7/10\n",
      "\u001b[1m469/469\u001b[0m \u001b[32m━━━━━━━━━━━━━━━━━━━━\u001b[0m\u001b[37m\u001b[0m \u001b[1m2s\u001b[0m 5ms/step - accuracy: 0.9040 - loss: 0.3308 - val_accuracy: 0.9173 - val_loss: 0.2922\n",
      "Epoch 8/10\n",
      "\u001b[1m469/469\u001b[0m \u001b[32m━━━━━━━━━━━━━━━━━━━━\u001b[0m\u001b[37m\u001b[0m \u001b[1m2s\u001b[0m 5ms/step - accuracy: 0.9110 - loss: 0.3071 - val_accuracy: 0.9193 - val_loss: 0.2790\n",
      "Epoch 9/10\n",
      "\u001b[1m469/469\u001b[0m \u001b[32m━━━━━━━━━━━━━━━━━━━━\u001b[0m\u001b[37m\u001b[0m \u001b[1m2s\u001b[0m 5ms/step - accuracy: 0.9132 - loss: 0.3008 - val_accuracy: 0.9245 - val_loss: 0.2649\n",
      "Epoch 10/10\n",
      "\u001b[1m469/469\u001b[0m \u001b[32m━━━━━━━━━━━━━━━━━━━━\u001b[0m\u001b[37m\u001b[0m \u001b[1m3s\u001b[0m 6ms/step - accuracy: 0.9183 - loss: 0.2790 - val_accuracy: 0.9268 - val_loss: 0.2544\n"
     ]
    },
    {
     "name": "stderr",
     "output_type": "stream",
     "text": [
      "2025-05-12 23:01:48.685487: I external/local_xla/xla/stream_executor/cuda/subprocess_compilation.cc:346] ptxas warning : Registers are spilled to local memory in function 'gemm_fusion_dot_86', 4 bytes spill stores, 4 bytes spill loads\n",
      "\n"
     ]
    },
    {
     "name": "stdout",
     "output_type": "stream",
     "text": [
      "Test loss: 0.2543613016605377\n",
      "Test accuracy: 0.926800012588501\n"
     ]
    }
   ],
   "source": [
    "batch_size = 128\n",
    "epochs = 10\n",
    "\n",
    "# Armazene nossos resultados aqui para que possamos plotar mais tarde\n",
    "# Em nossa função de ajuste, especificamos nossos conjuntos de dados (x_train e y_train), \n",
    "# o tamanho do lote (normalmente de 16 a 128, dependendo de sua RAM), o número de \n",
    "# épocas (geralmente de 10 a 100) e nossos conjuntos de dados de validação (x_test e y_test)\n",
    "# verbose = 1, define nosso treinamento para gerar métricas de desempenho a cada época\n",
    "\n",
    "history = model.fit(x_train,\n",
    "                    y_train,\n",
    "                    batch_size = batch_size,\n",
    "                    epochs = epochs,\n",
    "                    verbose = 1,\n",
    "                    validation_data = (x_test, y_test))\n",
    "\n",
    "# Obtemos nossa pontuação de precisão usando a função evaluate\n",
    "# A pontuação contém dois valores, nossa perda de teste e a precisão\n",
    "score = model.evaluate(x_test, y_test, verbose=0)\n",
    "print('Test loss:', score[0])\n",
    "print('Test accuracy:', score[1])"
   ]
  },
  {
   "cell_type": "markdown",
   "id": "e1be60f7-a014-48d5-9a28-35b75ca471b2",
   "metadata": {},
   "source": [
    "## Obtenha as saídas simbólicas de cada layer “key” (demos a elas nomes exclusivos)."
   ]
  },
  {
   "cell_type": "code",
   "execution_count": 5,
   "id": "907aed2e-ef4e-46e8-b9f2-637960da6212",
   "metadata": {},
   "outputs": [
    {
     "data": {
      "text/plain": [
       "{'conv2d': <Conv2D name=conv2d, built=True>,\n",
       " 'conv2d_1': <Conv2D name=conv2d_1, built=True>,\n",
       " 'max_pooling2d': <MaxPooling2D name=max_pooling2d, built=True>,\n",
       " 'flatten': <Flatten name=flatten, built=True>,\n",
       " 'dense': <Dense name=dense, built=True>,\n",
       " 'dense_1': <Dense name=dense_1, built=True>}"
      ]
     },
     "execution_count": 5,
     "metadata": {},
     "output_type": "execute_result"
    }
   ],
   "source": [
    "layer_dict = dict([(layer.name, layer) for layer in model.layers])\n",
    "layer_dict"
   ]
  },
  {
   "cell_type": "markdown",
   "id": "a338619d-88fb-46f2-9113-a7327216cef7",
   "metadata": {},
   "source": [
    "## Obtenha as formas apenas de nossos filtros conv"
   ]
  },
  {
   "cell_type": "code",
   "execution_count": null,
   "id": "1a3fd546-fe47-4648-8c28-d688aed28723",
   "metadata": {},
   "outputs": [
    {
     "name": "stdout",
     "output_type": "stream",
     "text": [
      "conv2d (3, 3, 1, 32)\n",
      "conv2d_1 (3, 3, 32, 64)\n"
     ]
    }
   ],
   "source": [
    "\n",
    "for layer in model.layers:\n",
    "  \n",
    "  \n",
    "  if 'conv' not in layer.name:\n",
    "    continue\n",
    "\n",
    "  # get filter weights\n",
    "  filters, biases = layer.get_weights()\n",
    "  print(layer.name, filters.shape)"
   ]
  },
  {
   "cell_type": "markdown",
   "id": "e1872bda-565f-4386-8311-81a99778a040",
   "metadata": {},
   "source": [
    "## **Vamos dar uma olhada nos pesos da nossa primeira camada de convolução**"
   ]
  },
  {
   "cell_type": "code",
   "execution_count": null,
   "id": "974bc07b-7c34-4c85-b4c7-37a116739e2f",
   "metadata": {},
   "outputs": [],
   "source": [
    "\n",
    "filters, biases = model.layers[0].get_weights()"
   ]
  },
  {
   "cell_type": "code",
   "execution_count": null,
   "id": "fc33487b-4393-4546-b977-de99dd2ee645",
   "metadata": {},
   "outputs": [
    {
     "name": "stdout",
     "output_type": "stream",
     "text": [
      "(3, 3, 1, 32)\n"
     ]
    },
    {
     "data": {
      "text/plain": [
       "array([[[[ 0.02897271,  0.04174726,  0.03887487,  0.19351295,\n",
       "           0.20913644, -0.10724751,  0.05521048, -0.10940452,\n",
       "           0.00902098,  0.03902451, -0.05535788,  0.11402512,\n",
       "          -0.09428194, -0.08809341,  0.219264  ,  0.13128728,\n",
       "           0.07747633,  0.08538628,  0.16086622, -0.08839   ,\n",
       "          -0.04062249,  0.24419086, -0.09289753, -0.08901308,\n",
       "          -0.11408685, -0.12088515, -0.0424923 ,  0.08775742,\n",
       "          -0.11630228,  0.01786469, -0.03450928, -0.13970926]],\n",
       "\n",
       "        [[-0.1048329 ,  0.00983945,  0.0883079 ,  0.06551097,\n",
       "           0.09094685, -0.08961143,  0.08451835, -0.11488672,\n",
       "           0.23109946, -0.0979539 ,  0.02820711,  0.30100876,\n",
       "           0.02658325,  0.1430889 ,  0.30146772, -0.01648316,\n",
       "           0.11219103,  0.07122757,  0.15031767, -0.11864892,\n",
       "          -0.05748108,  0.1714402 , -0.13501798, -0.02734147,\n",
       "          -0.07658008,  0.00474489, -0.03448809, -0.06873424,\n",
       "           0.01760725,  0.1781829 , -0.07015178,  0.04064712]],\n",
       "\n",
       "        [[ 0.11928223,  0.02936158,  0.09883317, -0.04429419,\n",
       "           0.08886477,  0.05669629,  0.19928552,  0.07841827,\n",
       "           0.20188971,  0.13454303, -0.13181475,  0.26642117,\n",
       "           0.07886316,  0.12779647,  0.24011517, -0.06892546,\n",
       "          -0.09087022,  0.0795932 ,  0.18072467, -0.11874024,\n",
       "          -0.09172715, -0.04751423, -0.06116347, -0.07493519,\n",
       "           0.01108336, -0.11254636, -0.01693436, -0.12296927,\n",
       "          -0.09804758,  0.17602165, -0.04038539,  0.00199492]]],\n",
       "\n",
       "\n",
       "       [[[-0.02856036, -0.03604015,  0.01288896,  0.10594609,\n",
       "           0.25263146, -0.07310629,  0.12211296,  0.09688951,\n",
       "           0.09018842, -0.15076452, -0.11450119,  0.30657464,\n",
       "          -0.08606428,  0.14565116,  0.17956051,  0.06405938,\n",
       "           0.1869083 ,  0.03627432, -0.02304089,  0.10149444,\n",
       "           0.09915993,  0.23655586, -0.08997383,  0.04454589,\n",
       "          -0.04373592,  0.11799357,  0.02374208, -0.13082439,\n",
       "          -0.03016967,  0.10124478, -0.04402163, -0.04886278]],\n",
       "\n",
       "        [[ 0.08442573,  0.12936975, -0.0270441 ,  0.01911365,\n",
       "           0.13787872, -0.10246502,  0.02924893, -0.0584347 ,\n",
       "           0.09353785,  0.11624264,  0.00198205,  0.30818608,\n",
       "           0.12263639,  0.1121878 ,  0.3118598 ,  0.13225478,\n",
       "           0.09676045,  0.14754874, -0.05914925,  0.04669026,\n",
       "           0.03106788,  0.0699005 , -0.06090869, -0.13573231,\n",
       "          -0.0313855 , -0.09274946, -0.03037402, -0.0895005 ,\n",
       "           0.00571468,  0.19637445, -0.05087785, -0.01280297]],\n",
       "\n",
       "        [[ 0.11077513, -0.10919417,  0.04082486,  0.14716366,\n",
       "           0.18354197, -0.08674927,  0.10728883, -0.01280559,\n",
       "          -0.00812229,  0.00477271, -0.06781963,  0.20071949,\n",
       "          -0.04073492,  0.00570099,  0.2660725 , -0.06239528,\n",
       "          -0.01992395,  0.11223452, -0.0169507 ,  0.1087253 ,\n",
       "          -0.07307852,  0.15498798, -0.08378578,  0.04352605,\n",
       "          -0.13221559, -0.11036231, -0.06620686, -0.00636426,\n",
       "           0.01580864,  0.23155959,  0.03636947, -0.09824141]]],\n",
       "\n",
       "\n",
       "       [[[-0.09231824, -0.00562828, -0.08477239,  0.03060512,\n",
       "           0.03323166, -0.01946185, -0.07507399, -0.11589365,\n",
       "           0.2143167 , -0.01142682,  0.0187058 ,  0.07735259,\n",
       "           0.01150986,  0.0175647 ,  0.30052185,  0.00427177,\n",
       "           0.13929118, -0.09444536, -0.12984942,  0.02439132,\n",
       "           0.03735421,  0.23646057, -0.01495827,  0.01045692,\n",
       "           0.02189893,  0.12150902, -0.07661629, -0.00893371,\n",
       "          -0.04005574,  0.23555773,  0.09306324,  0.00509958]],\n",
       "\n",
       "        [[ 0.12726751, -0.0779159 ,  0.09521864,  0.09552555,\n",
       "           0.01896965, -0.05350054, -0.09691121, -0.00644283,\n",
       "           0.05121872, -0.07894132, -0.11052261,  0.18728226,\n",
       "           0.04610712, -0.10894296,  0.2452996 , -0.01067061,\n",
       "           0.04155398, -0.03152733, -0.09237783, -0.03739484,\n",
       "           0.11026347,  0.12089989,  0.09364449,  0.02814454,\n",
       "          -0.05450122, -0.06638016, -0.00312772,  0.03476182,\n",
       "          -0.13227108,  0.17809463, -0.063503  ,  0.12112896]],\n",
       "\n",
       "        [[-0.08348193, -0.11931442,  0.05181655, -0.07967345,\n",
       "          -0.05247712, -0.0853259 ,  0.10446446, -0.05368907,\n",
       "           0.20227548,  0.0335307 ,  0.12785912,  0.08890795,\n",
       "          -0.14299089, -0.10670783,  0.02294416,  0.16528983,\n",
       "           0.05445003, -0.01697685,  0.10551675, -0.08085977,\n",
       "          -0.03011061,  0.06524475, -0.01985222,  0.06654359,\n",
       "          -0.10182089, -0.12556079,  0.09426159,  0.09232051,\n",
       "          -0.08919088,  0.08945615, -0.04658547, -0.0449196 ]]]],\n",
       "      dtype=float32)"
      ]
     },
     "execution_count": 8,
     "metadata": {},
     "output_type": "execute_result"
    }
   ],
   "source": [
    "\n",
    "print(filters.shape)\n",
    "filters"
   ]
  },
  {
   "cell_type": "code",
   "execution_count": null,
   "id": "eed972db-bf9a-4697-a70b-cb6327cd3ba8",
   "metadata": {},
   "outputs": [
    {
     "name": "stdout",
     "output_type": "stream",
     "text": [
      "(32,)\n"
     ]
    },
    {
     "data": {
      "text/plain": [
       "array([ 6.8630744e-04,  1.1448285e-05,  3.2465577e-03,  1.1273732e-02,\n",
       "        3.8476202e-03, -2.3117098e-03,  6.4957784e-03, -6.4073866e-03,\n",
       "        1.0212825e-02,  5.5038352e-03,  5.1592067e-02,  1.7793333e-02,\n",
       "       -2.0029396e-02,  6.7837788e-03,  5.2665863e-03,  2.6778614e-02,\n",
       "        8.2639745e-06,  2.0549409e-02,  2.6806226e-02, -8.2143933e-06,\n",
       "        1.5148042e-03,  3.8188333e-05, -1.5088128e-03, -9.0177422e-03,\n",
       "       -1.2836386e-03,  2.1965783e-02, -1.1530162e-03, -4.2537600e-03,\n",
       "        1.7669594e-02,  1.0239460e-03, -2.1554531e-05,  5.2724857e-02],\n",
       "      dtype=float32)"
      ]
     },
     "execution_count": 9,
     "metadata": {},
     "output_type": "execute_result"
    }
   ],
   "source": [
    "\n",
    "print(biases.shape)\n",
    "biases"
   ]
  },
  {
   "cell_type": "markdown",
   "id": "29258fcb-c626-4815-a335-1ee40c84511a",
   "metadata": {},
   "source": [
    "## Vamos normalizar os valores do filtro para 0-1 para que possamos visualizá-los**\n",
    "\n",
    "Nossos pesos de filtro variam"
   ]
  },
  {
   "cell_type": "code",
   "execution_count": null,
   "id": "66a947a7-42d7-4042-83b5-4d9354d13d33",
   "metadata": {},
   "outputs": [
    {
     "name": "stdout",
     "output_type": "stream",
     "text": [
      "Before Normalisation, Min = -0.15076452493667603 and Max =  0.31185978651046753\n",
      "After Normalisation, Min = 0.0 and Max =  1.0\n"
     ]
    }
   ],
   "source": [
    "\n",
    "f_min, f_max = filters.min(), filters.max()\n",
    "print(f'Antes da Normalização, Min = {f_min} and Max =  {f_max}')\n",
    "filters = (filters - f_min) / (f_max - f_min)\n",
    "print(f'Após a Normalização, Min = {filters.min()} and Max =  {filters.max()}')"
   ]
  },
  {
   "cell_type": "markdown",
   "id": "3f304b0f-c87f-4ee1-8931-3e797e4fbb97",
   "metadata": {},
   "source": [
    "**Visualize nossos filtros treinados**"
   ]
  },
  {
   "cell_type": "code",
   "execution_count": null,
   "id": "76d9d506-cd79-4178-84b6-a60fce7ec6e7",
   "metadata": {},
   "outputs": [
    {
     "data": {
      "image/png": "[encoded data removed]",
      "text/plain": [
       "<Figure size 1200x2000 with 32 Axes>"
      ]
     },
     "metadata": {},
     "output_type": "display_data"
    }
   ],
   "source": [
    "import matplotlib.pyplot as plt\n",
    "import numpy as np\n",
    "\n",
    "\n",
    "n_filters, ix = 32, 1\n",
    "plt.figure(figsize=(12,20))\n",
    "\n",
    "for i in range(n_filters):\n",
    "    # get the filter\n",
    "    f = filters[:, :, :, i]\n",
    "   \n",
    "    ax = plt.subplot(n_filters, 4, ix)\n",
    "    ax.set_xticks([])\n",
    "    ax.set_yticks([])\n",
    "\n",
    "    plt.imshow(np.squeeze(f, axis=2), cmap='gray')\n",
    "    ix += 1\n",
    "\n",
    "plt.show()"
   ]
  },
  {
   "cell_type": "markdown",
   "id": "732b02e6-f4f8-4576-a399-4806762184da",
   "metadata": {},
   "source": [
    "# **Ativações dos Filtros**"
   ]
  },
  {
   "cell_type": "code",
   "execution_count": null,
   "id": "89d914ba-5447-46d7-8c8c-495391cea1f3",
   "metadata": {},
   "outputs": [],
   "source": [
    "from tensorflow.keras.models import Model\n",
    "\n",
    "# Extrai as saídas das 2 camadas superiores\n",
    "layer_outputs = [layer.output for layer in model.layers[:2]]\n",
    "\n",
    "# Cria um modelo que retornará esses resultados, dada a entrada do modelo\n",
    "activation_model = Model(inputs=model.layers[0].input, outputs=layer_outputs)"
   ]
  },
  {
   "cell_type": "code",
   "execution_count": 15,
   "id": "75ccf081-71f0-42b1-8e58-e8c4ae8810d1",
   "metadata": {},
   "outputs": [
    {
     "data": {
      "text/plain": [
       "[<KerasTensor shape=(None, 26, 26, 32), dtype=float32, sparse=False, ragged=False, name=keras_tensor_1>,\n",
       " <KerasTensor shape=(None, 24, 24, 64), dtype=float32, sparse=False, ragged=False, name=keras_tensor_3>]"
      ]
     },
     "execution_count": 15,
     "metadata": {},
     "output_type": "execute_result"
    }
   ],
   "source": [
    "layer_outputs"
   ]
  },
  {
   "cell_type": "code",
   "execution_count": 16,
   "id": "ff6cc122-0f64-4db5-ad69-0ce8cc6c179e",
   "metadata": {},
   "outputs": [
    {
     "data": {
      "text/plain": [
       "(np.float64(-0.5), np.float64(27.5), np.float64(27.5), np.float64(-0.5))"
      ]
     },
     "execution_count": 16,
     "metadata": {},
     "output_type": "execute_result"
    },
    {
     "data": {
      "image/png": "[encoded data removed]",
      "text/plain": [
       "<Figure size 500x500 with 1 Axes>"
      ]
     },
     "metadata": {},
     "output_type": "display_data"
    }
   ],
   "source": [
    "import matplotlib.pyplot as plt\n",
    "\n",
    "img_tensor = x_test[22].reshape(1,28,28,1)\n",
    "fig = plt.figure(figsize=(5,5))\n",
    "plt.imshow(img_tensor[0,:,:,0],cmap=\"gray\")\n",
    "plt.axis('off')"
   ]
  },
  {
   "cell_type": "markdown",
   "id": "39c48e22-5f07-4eaa-9cbc-720992bb0396",
   "metadata": {},
   "source": [
    "## **Obter a saída após o segundo filtro de conv (após ReLU)**"
   ]
  },
  {
   "cell_type": "code",
   "execution_count": null,
   "id": "ccfd2e86-f83c-4c72-8d38-73dfcebef941",
   "metadata": {},
   "outputs": [
    {
     "name": "stdout",
     "output_type": "stream",
     "text": [
      "\u001b[1m1/1\u001b[0m \u001b[32m━━━━━━━━━━━━━━━━━━━━\u001b[0m\u001b[37m\u001b[0m \u001b[1m0s\u001b[0m 342ms/step\n",
      "Number of layer activations: 2\n"
     ]
    }
   ],
   "source": [
    "\n",
    "activations = activation_model.predict(img_tensor)\n",
    "\n",
    "print(\"Number of layer activations: \" + str(len(activations)))"
   ]
  },
  {
   "cell_type": "markdown",
   "id": "b7957320-3556-41c2-89b8-5eed424e09d7",
   "metadata": {},
   "source": [
    "#### **A ativação da primeira camada de convolução para a entrada de imagem**"
   ]
  },
  {
   "cell_type": "code",
   "execution_count": 18,
   "id": "16ab3e8e-3e54-4f8e-b44a-809c7512ded5",
   "metadata": {},
   "outputs": [
    {
     "name": "stdout",
     "output_type": "stream",
     "text": [
      "(1, 26, 26, 32)\n"
     ]
    }
   ],
   "source": [
    "first_layer_activation = activations[0]\n",
    "print(first_layer_activation.shape)"
   ]
  },
  {
   "cell_type": "code",
   "execution_count": 19,
   "id": "d846b0f4-26ae-4b57-92e0-e09474a50b70",
   "metadata": {},
   "outputs": [
    {
     "name": "stdout",
     "output_type": "stream",
     "text": [
      "(1, 24, 24, 64)\n"
     ]
    }
   ],
   "source": [
    "second_layer_activation = activations[1]\n",
    "print(second_layer_activation.shape)"
   ]
  },
  {
   "cell_type": "code",
   "execution_count": 20,
   "id": "0c9758e8-6f95-461a-a856-6af609518636",
   "metadata": {},
   "outputs": [
    {
     "data": {
      "text/html": [
       "<pre style=\"white-space:pre;overflow-x:auto;line-height:normal;font-family:Menlo,'DejaVu Sans Mono',consolas,'Courier New',monospace\"><span style=\"font-weight: bold\">Model: \"sequential\"</span>\n",
       "</pre>\n"
      ],
      "text/plain": [
       "\u001b[1mModel: \"sequential\"\u001b[0m\n"
      ]
     },
     "metadata": {},
     "output_type": "display_data"
    },
    {
     "data": {
      "text/html": [
       "<pre style=\"white-space:pre;overflow-x:auto;line-height:normal;font-family:Menlo,'DejaVu Sans Mono',consolas,'Courier New',monospace\">┏━━━━━━━━━━━━━━━━━━━━━━━━━━━━━━━━━┳━━━━━━━━━━━━━━━━━━━━━━━━┳━━━━━━━━━━━━━━━┓\n",
       "┃<span style=\"font-weight: bold\"> Layer (type)                    </span>┃<span style=\"font-weight: bold\"> Output Shape           </span>┃<span style=\"font-weight: bold\">       Param # </span>┃\n",
       "┡━━━━━━━━━━━━━━━━━━━━━━━━━━━━━━━━━╇━━━━━━━━━━━━━━━━━━━━━━━━╇━━━━━━━━━━━━━━━┩\n",
       "│ conv2d (<span style=\"color: #0087ff; text-decoration-color: #0087ff\">Conv2D</span>)                 │ (<span style=\"color: #00d7ff; text-decoration-color: #00d7ff\">None</span>, <span style=\"color: #00af00; text-decoration-color: #00af00\">26</span>, <span style=\"color: #00af00; text-decoration-color: #00af00\">26</span>, <span style=\"color: #00af00; text-decoration-color: #00af00\">32</span>)     │           <span style=\"color: #00af00; text-decoration-color: #00af00\">320</span> │\n",
       "├─────────────────────────────────┼────────────────────────┼───────────────┤\n",
       "│ conv2d_1 (<span style=\"color: #0087ff; text-decoration-color: #0087ff\">Conv2D</span>)               │ (<span style=\"color: #00d7ff; text-decoration-color: #00d7ff\">None</span>, <span style=\"color: #00af00; text-decoration-color: #00af00\">24</span>, <span style=\"color: #00af00; text-decoration-color: #00af00\">24</span>, <span style=\"color: #00af00; text-decoration-color: #00af00\">64</span>)     │        <span style=\"color: #00af00; text-decoration-color: #00af00\">18,496</span> │\n",
       "├─────────────────────────────────┼────────────────────────┼───────────────┤\n",
       "│ max_pooling2d (<span style=\"color: #0087ff; text-decoration-color: #0087ff\">MaxPooling2D</span>)    │ (<span style=\"color: #00d7ff; text-decoration-color: #00d7ff\">None</span>, <span style=\"color: #00af00; text-decoration-color: #00af00\">12</span>, <span style=\"color: #00af00; text-decoration-color: #00af00\">12</span>, <span style=\"color: #00af00; text-decoration-color: #00af00\">64</span>)     │             <span style=\"color: #00af00; text-decoration-color: #00af00\">0</span> │\n",
       "├─────────────────────────────────┼────────────────────────┼───────────────┤\n",
       "│ flatten (<span style=\"color: #0087ff; text-decoration-color: #0087ff\">Flatten</span>)               │ (<span style=\"color: #00d7ff; text-decoration-color: #00d7ff\">None</span>, <span style=\"color: #00af00; text-decoration-color: #00af00\">9216</span>)           │             <span style=\"color: #00af00; text-decoration-color: #00af00\">0</span> │\n",
       "├─────────────────────────────────┼────────────────────────┼───────────────┤\n",
       "│ dense (<span style=\"color: #0087ff; text-decoration-color: #0087ff\">Dense</span>)                   │ (<span style=\"color: #00d7ff; text-decoration-color: #00d7ff\">None</span>, <span style=\"color: #00af00; text-decoration-color: #00af00\">128</span>)            │     <span style=\"color: #00af00; text-decoration-color: #00af00\">1,179,776</span> │\n",
       "├─────────────────────────────────┼────────────────────────┼───────────────┤\n",
       "│ dense_1 (<span style=\"color: #0087ff; text-decoration-color: #0087ff\">Dense</span>)                 │ (<span style=\"color: #00d7ff; text-decoration-color: #00d7ff\">None</span>, <span style=\"color: #00af00; text-decoration-color: #00af00\">10</span>)             │         <span style=\"color: #00af00; text-decoration-color: #00af00\">1,290</span> │\n",
       "└─────────────────────────────────┴────────────────────────┴───────────────┘\n",
       "</pre>\n"
      ],
      "text/plain": [
       "┏━━━━━━━━━━━━━━━━━━━━━━━━━━━━━━━━━┳━━━━━━━━━━━━━━━━━━━━━━━━┳━━━━━━━━━━━━━━━┓\n",
       "┃\u001b[1m \u001b[0m\u001b[1mLayer (type)                   \u001b[0m\u001b[1m \u001b[0m┃\u001b[1m \u001b[0m\u001b[1mOutput Shape          \u001b[0m\u001b[1m \u001b[0m┃\u001b[1m \u001b[0m\u001b[1m      Param #\u001b[0m\u001b[1m \u001b[0m┃\n",
       "┡━━━━━━━━━━━━━━━━━━━━━━━━━━━━━━━━━╇━━━━━━━━━━━━━━━━━━━━━━━━╇━━━━━━━━━━━━━━━┩\n",
       "│ conv2d (\u001b[38;5;33mConv2D\u001b[0m)                 │ (\u001b[38;5;45mNone\u001b[0m, \u001b[38;5;34m26\u001b[0m, \u001b[38;5;34m26\u001b[0m, \u001b[38;5;34m32\u001b[0m)     │           \u001b[38;5;34m320\u001b[0m │\n",
       "├─────────────────────────────────┼────────────────────────┼───────────────┤\n",
       "│ conv2d_1 (\u001b[38;5;33mConv2D\u001b[0m)               │ (\u001b[38;5;45mNone\u001b[0m, \u001b[38;5;34m24\u001b[0m, \u001b[38;5;34m24\u001b[0m, \u001b[38;5;34m64\u001b[0m)     │        \u001b[38;5;34m18,496\u001b[0m │\n",
       "├─────────────────────────────────┼────────────────────────┼───────────────┤\n",
       "│ max_pooling2d (\u001b[38;5;33mMaxPooling2D\u001b[0m)    │ (\u001b[38;5;45mNone\u001b[0m, \u001b[38;5;34m12\u001b[0m, \u001b[38;5;34m12\u001b[0m, \u001b[38;5;34m64\u001b[0m)     │             \u001b[38;5;34m0\u001b[0m │\n",
       "├─────────────────────────────────┼────────────────────────┼───────────────┤\n",
       "│ flatten (\u001b[38;5;33mFlatten\u001b[0m)               │ (\u001b[38;5;45mNone\u001b[0m, \u001b[38;5;34m9216\u001b[0m)           │             \u001b[38;5;34m0\u001b[0m │\n",
       "├─────────────────────────────────┼────────────────────────┼───────────────┤\n",
       "│ dense (\u001b[38;5;33mDense\u001b[0m)                   │ (\u001b[38;5;45mNone\u001b[0m, \u001b[38;5;34m128\u001b[0m)            │     \u001b[38;5;34m1,179,776\u001b[0m │\n",
       "├─────────────────────────────────┼────────────────────────┼───────────────┤\n",
       "│ dense_1 (\u001b[38;5;33mDense\u001b[0m)                 │ (\u001b[38;5;45mNone\u001b[0m, \u001b[38;5;34m10\u001b[0m)             │         \u001b[38;5;34m1,290\u001b[0m │\n",
       "└─────────────────────────────────┴────────────────────────┴───────────────┘\n"
      ]
     },
     "metadata": {},
     "output_type": "display_data"
    },
    {
     "data": {
      "text/html": [
       "<pre style=\"white-space:pre;overflow-x:auto;line-height:normal;font-family:Menlo,'DejaVu Sans Mono',consolas,'Courier New',monospace\"><span style=\"font-weight: bold\"> Total params: </span><span style=\"color: #00af00; text-decoration-color: #00af00\">1,199,884</span> (4.58 MB)\n",
       "</pre>\n"
      ],
      "text/plain": [
       "\u001b[1m Total params: \u001b[0m\u001b[38;5;34m1,199,884\u001b[0m (4.58 MB)\n"
      ]
     },
     "metadata": {},
     "output_type": "display_data"
    },
    {
     "data": {
      "text/html": [
       "<pre style=\"white-space:pre;overflow-x:auto;line-height:normal;font-family:Menlo,'DejaVu Sans Mono',consolas,'Courier New',monospace\"><span style=\"font-weight: bold\"> Trainable params: </span><span style=\"color: #00af00; text-decoration-color: #00af00\">1,199,882</span> (4.58 MB)\n",
       "</pre>\n"
      ],
      "text/plain": [
       "\u001b[1m Trainable params: \u001b[0m\u001b[38;5;34m1,199,882\u001b[0m (4.58 MB)\n"
      ]
     },
     "metadata": {},
     "output_type": "display_data"
    },
    {
     "data": {
      "text/html": [
       "<pre style=\"white-space:pre;overflow-x:auto;line-height:normal;font-family:Menlo,'DejaVu Sans Mono',consolas,'Courier New',monospace\"><span style=\"font-weight: bold\"> Non-trainable params: </span><span style=\"color: #00af00; text-decoration-color: #00af00\">0</span> (0.00 B)\n",
       "</pre>\n"
      ],
      "text/plain": [
       "\u001b[1m Non-trainable params: \u001b[0m\u001b[38;5;34m0\u001b[0m (0.00 B)\n"
      ]
     },
     "metadata": {},
     "output_type": "display_data"
    },
    {
     "data": {
      "text/html": [
       "<pre style=\"white-space:pre;overflow-x:auto;line-height:normal;font-family:Menlo,'DejaVu Sans Mono',consolas,'Courier New',monospace\"><span style=\"font-weight: bold\"> Optimizer params: </span><span style=\"color: #00af00; text-decoration-color: #00af00\">2</span> (12.00 B)\n",
       "</pre>\n"
      ],
      "text/plain": [
       "\u001b[1m Optimizer params: \u001b[0m\u001b[38;5;34m2\u001b[0m (12.00 B)\n"
      ]
     },
     "metadata": {},
     "output_type": "display_data"
    },
    {
     "name": "stdout",
     "output_type": "stream",
     "text": [
      "None\n"
     ]
    }
   ],
   "source": [
    "print(model.summary())\n"
   ]
  },
  {
   "cell_type": "markdown",
   "id": "e30123b1-95fd-4dd0-9b7a-935cbccf03db",
   "metadata": {},
   "source": [
    "## **A saída do mapa de características do 4º kernel da primeira camada de Conv**"
   ]
  },
  {
   "cell_type": "code",
   "execution_count": 21,
   "id": "5e510193-40ff-483f-ba3e-c129c0873433",
   "metadata": {},
   "outputs": [
    {
     "name": "stderr",
     "output_type": "stream",
     "text": [
      "/tmp/ipykernel_634/2840246597.py:2: UserWarning: No artists with labels found to put in legend.  Note that artists whose label start with an underscore are ignored when legend() is called with no argument.\n",
      "  plt.legend()\n"
     ]
    },
    {
     "data": {
      "text/plain": [
       "<matplotlib.legend.Legend at 0x7f825b8683b0>"
      ]
     },
     "execution_count": 21,
     "metadata": {},
     "output_type": "execute_result"
    },
    {
     "data": {
      "image/png": "[encoded data removed]",
      "text/plain": [
       "<Figure size 480x480 with 1 Axes>"
      ]
     },
     "metadata": {},
     "output_type": "display_data"
    }
   ],
   "source": [
    "plt.matshow(first_layer_activation[0, :, :, 3], cmap='viridis')\n",
    "plt.legend()"
   ]
  },
  {
   "cell_type": "markdown",
   "id": "e9d34afc-16d1-4d64-b636-6a97c28c9a16",
   "metadata": {},
   "source": [
    "## **Crie uma função que exiba as ativações de camadas específicas**"
   ]
  },
  {
   "cell_type": "code",
   "execution_count": 25,
   "id": "ea4f234d-110d-4ae3-b6a6-a7992bc44637",
   "metadata": {},
   "outputs": [],
   "source": [
    "def display_activation(activations, col_size, row_size, act_index): \n",
    "    activation = activations[act_index]\n",
    "    activation_index=0\n",
    "    fig, ax = plt.subplots(row_size, col_size, figsize=(row_size*2.5,col_size*1.5))\n",
    "    for row in range(0,row_size):\n",
    "        for col in range(0,col_size):\n",
    "            ax[row][col].imshow(activation[0, :, :, activation_index], cmap='viridis')\n",
    "            activation_index += 1"
   ]
  },
  {
   "cell_type": "code",
   "execution_count": 26,
   "id": "38291c02-297a-4265-9d77-f76b6496112a",
   "metadata": {},
   "outputs": [
    {
     "data": {
      "image/png": "[encoded data removed]",
      "text/plain": [
       "<Figure size 2000x600 with 32 Axes>"
      ]
     },
     "metadata": {},
     "output_type": "display_data"
    }
   ],
   "source": [
    "display_activation(activations, 4, 8, 0)"
   ]
  },
  {
   "cell_type": "code",
   "execution_count": null,
   "id": "37f931cd-30a3-4b7c-994c-0f3da6e26ecf",
   "metadata": {},
   "outputs": [],
   "source": []
  }
 ],
 "metadata": {
  "kernelspec": {
   "display_name": "Python 3 (ipykernel)",
   "language": "python",
   "name": "python3"
  },
  "language_info": {
   "codemirror_mode": {
    "name": "ipython",
    "version": 3
   },
   "file_extension": ".py",
   "mimetype": "text/x-python",
   "name": "python",
   "nbconvert_exporter": "python",
   "pygments_lexer": "ipython3",
   "version": "3.12.3"
  }
 },
 "nbformat": 4,
 "nbformat_minor": 5
}
