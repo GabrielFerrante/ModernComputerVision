{
 "cells": [
  {
   "cell_type": "markdown",
   "id": "0038b907-ceb0-49a0-824a-b5bf0f311586",
   "metadata": {},
   "source": [
    "# **Maximização de filtros e classes**\n",
    "\n",
    "---\n",
    "\n",
    "\n",
    "Nesta lição, usamos o **Keras com TensorFlow 2.0** para visualizar o seguinte (veja abaixo). Isso o ajuda a entender melhor o que está acontecendo nos bastidores e a desmistificar alguns dos aspectos da aprendizagem profunda.\n",
    "1. Maximização do filtro\n",
    "2. Maximização de classe"
   ]
  },
  {
   "cell_type": "markdown",
   "id": "27128170-ecef-4b99-aff9-68760b325977",
   "metadata": {},
   "source": [
    "## Maximizando as ativações do filtro\n",
    "\n",
    "Em princípio, o processo é relativamente simples.\n",
    "1. Você criará uma função de perda que maximiza o valor de um determinado filtro em uma determinada camada de convolução\n",
    "2. Você usará o Stochastic Gradient Descent para ajustar os valores da imagem de entrada de modo a maximizar esse valor de ativação. \n",
    "\n",
    "**OBSERVAÇÃO** Isso é mais fácil de implementar no TF1.14, portanto, faremos o downgrade do nosso pacote Tensorflow para que isso funcione.\n"
   ]
  },
  {
   "cell_type": "markdown",
   "id": "e370e9d9-b38a-4335-a8cf-97b33e8344d7",
   "metadata": {},
   "source": [
    "# **Visualising Conv Filters Maximisations**\n",
    "\n",
    "Instalar o tf-keras-vis. https://github.com/keisen/tf-keras-vis"
   ]
  },
  {
   "cell_type": "code",
   "execution_count": 1,
   "id": "0003d7a9-e794-4ca3-acfa-57d443885ef4",
   "metadata": {},
   "outputs": [
    {
     "name": "stdout",
     "output_type": "stream",
     "text": [
      "\u001b[1;31merror\u001b[0m: \u001b[1mexternally-managed-environment\u001b[0m\n",
      "\n",
      "\u001b[31m×\u001b[0m This environment is externally managed\n",
      "\u001b[31m╰─>\u001b[0m To install Python packages system-wide, try apt install\n",
      "\u001b[31m   \u001b[0m python3-xyz, where xyz is the package you are trying to\n",
      "\u001b[31m   \u001b[0m install.\n",
      "\u001b[31m   \u001b[0m \n",
      "\u001b[31m   \u001b[0m If you wish to install a non-Debian-packaged Python package,\n",
      "\u001b[31m   \u001b[0m create a virtual environment using python3 -m venv path/to/venv.\n",
      "\u001b[31m   \u001b[0m Then use path/to/venv/bin/python and path/to/venv/bin/pip. Make\n",
      "\u001b[31m   \u001b[0m sure you have python3-full installed.\n",
      "\u001b[31m   \u001b[0m \n",
      "\u001b[31m   \u001b[0m If you wish to install a non-Debian packaged Python application,\n",
      "\u001b[31m   \u001b[0m it may be easiest to use pipx install xyz, which will manage a\n",
      "\u001b[31m   \u001b[0m virtual environment for you. Make sure you have pipx installed.\n",
      "\u001b[31m   \u001b[0m \n",
      "\u001b[31m   \u001b[0m See /usr/share/doc/python3.12/README.venv for more information.\n",
      "\n",
      "\u001b[1;35mnote\u001b[0m: If you believe this is a mistake, please contact your Python installation or OS distribution provider. You can override this, at the risk of breaking your Python installation or OS, by passing --break-system-packages.\n",
      "\u001b[1;36mhint\u001b[0m: See PEP 668 for the detailed specification.\n"
     ]
    }
   ],
   "source": [
    "import numpy as np\n",
    "from matplotlib import pyplot as plt\n",
    "%matplotlib inline\n",
    "\n",
    "import tensorflow as tf\n",
    "from tf_keras_vis.utils import num_of_gpus\n",
    "\n",
    "_, gpus = num_of_gpus()\n",
    "print('{} GPUs'.format(gpus))"
   ]
  },
  {
   "cell_type": "code",
   "execution_count": null,
   "id": "d59d15ce-0e60-45e7-be1b-ac1046859faa",
   "metadata": {},
   "outputs": [],
   "source": []
  }
 ],
 "metadata": {
  "kernelspec": {
   "display_name": "Python 3 (ipykernel)",
   "language": "python",
   "name": "python3"
  },
  "language_info": {
   "codemirror_mode": {
    "name": "ipython",
    "version": 3
   },
   "file_extension": ".py",
   "mimetype": "text/x-python",
   "name": "python",
   "nbconvert_exporter": "python",
   "pygments_lexer": "ipython3",
   "version": "3.12.3"
  }
 },
 "nbformat": 4,
 "nbformat_minor": 5
}
