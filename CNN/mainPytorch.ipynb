{
 "cells": [
  {
   "cell_type": "markdown",
   "metadata": {},
   "source": [
    "# **COMO CONSTRUIR UMA CNN COM PYTORCH**\n",
    "\n",
    "Iremos aplicar ao dataset MNIST. Mas antes disso, iremos ver cada parte de módulos fundamentais do Pytorch que facilitam nossa vida.\n",
    "\n",
    "- Iremos importar as funções\n",
    "- Definir nosso transformador, que é a classe que realiza transformações nas imagens\n",
    "- Carregar o dataset. \n",
    "- Inspecionar e visualizar o dataset\n",
    "- criar um DataLoader para carregar batches de imagens\n",
    "- Contruir o modelo\n",
    "- Treinar o modelo \n",
    "- Analisar a acurácia\n",
    "- Salvando o modelo\n",
    "- Visualizar os logs de treino.\n"
   ]
  },
  {
   "cell_type": "code",
   "execution_count": 1,
   "metadata": {},
   "outputs": [],
   "source": [
    "import torch\n",
    "\n",
    "#nos usamos o torchvision para carregar o dataset e usar transformações nas imagens\n",
    "import torchvision\n",
    "import torchvision.transforms as transforms\n",
    "\n",
    "#iremos também, importar os otimizadores para a rede e a rede em si.\n",
    "import torch.nn as nn\n",
    "import torch.optim as optim\n",
    "\n"
   ]
  },
  {
   "cell_type": "code",
   "execution_count": 2,
   "metadata": {},
   "outputs": [
    {
     "name": "stdout",
     "output_type": "stream",
     "text": [
      "GPU disponível: True\n"
     ]
    }
   ],
   "source": [
    "#Verificar se temos GPU para rodar nossos experimentos.\n",
    "print(\"GPU disponível: {}\".format(torch.cuda.is_available()))\n",
    "\n",
    "#Normalmente se define cuda ou cpu, para não ter problemas de compatibilidade com o pytorch\n",
    "if torch.cuda.is_available():\n",
    "    device = 'cuda'\n",
    "else:\n",
    "    device = 'cpu'"
   ]
  },
  {
   "cell_type": "markdown",
   "metadata": {},
   "source": [
    "### Transformadores\n",
    "\n",
    "Os transformadores são necessários para converter os dados da imagem no formato necessário para a entrada em nosso modelo.\n",
    "\n",
    "- Ele é composto usando a função ```transforms.Compose```\n",
    "- Encadeamos os comandos ou instruções do nosso pipeline como argumentos\n",
    "- Usamos ```transforms.ToTensor()``` para converter os dados da imagem em um Tensor PyTorch\n",
    "- Usamos ```transforms.Normalize()``` para normalizar nossos valores de pixel\n",
    "- Ao passar a entrada como ```(0.5, ), (0.5,)```, normalizamos nossos dados de imagem entre -1 e +1 \n",
    "- Observação: para imagens RGB, usamos ```transformed.Normalize((0.5, 0.5, 0.5), (0.5, 0.5, 0.5))``` \n",
    "\n",
    "\n",
    "**NOTA**:\n",
    "Nossos valores brutos de pixel em nosso conjunto de dados MNIST variam de 0 a 255. Cada imagem tem 28 pixels de altura e 28 pixels de largura, com uma profundidade de 1, pois é em escala de cinza.\n",
    "\n",
    "**Por que normalizar?**\n",
    "\n",
    "1. Para garantir que todos os recursos ou, no nosso caso, as intensidades dos pixels, sejam ponderados igualmente ao treinar a CNN\n",
    "2. Torna o treinamento mais rápido, pois evita oscilações durante o treinamento\n",
    "3. Remove o viés ou a distorção em nossos dados de imagem\n",
    "\n",
    "\n",
    "**Por que 0,5?**\n",
    "\n",
    "A normalização é feita da seguinte forma:\n",
    "\n",
    "`image = (image - mean) / std`\n",
    "\n",
    "Usar os parâmetros 0,5,0,5 define a média e o STD como 0,5. Usando a fórmula acima, obtemos o seguinte\n",
    "\n",
    "- Valor mínimo = `(0-0,5)/0,5 = 1`\n",
    "- Valor máximo = `(1-0,5)/0,5 = -1`\n",
    "\n",
    "Para imagens coloridas, usamos uma tupla de (0.5,0.5,0.5) para definir a média dos canais RGB como 0.5 e outra tupla de (0.5, 0.5, 0.5) para definir o STD como 0.5\n",
    "\n",
    "Já a transformação de ToTensor(), cria tensores.\n",
    "\n",
    "Os tensores no PyTorch são estruturas de dados fundamentais usadas para representar e manipular dados multidimensionais, semelhantes a arrays do NumPy, mas com funcionalidades avançadas para computação numérica e aprendizado de máquina. Eles são a unidade básica de operação no PyTorch e permitem cálculos eficientes, inclusive em GPUs. Aqui estão os principais aspectos:\n",
    "\n",
    "- Generalização de escalares, vetores e matrizes, Tensores podem ter N dimensões\n",
    "\n",
    "- Atributos chave: shape, dtype, device.\n",
    "\n",
    "- Computação Acelerada (GPU)\n",
    "\n",
    "- Operações Numéricas\n",
    "    - Aritmética: Adição (+), multiplicação (*), produto matricial (@ ou torch.matmul).\n",
    "\n",
    "    - Redimensionamento: .view(), .reshape(), .transpose().\n",
    "\n",
    "    - Funções matemáticas: torch.sin(), torch.exp(), torch.sum().\n",
    "\n",
    "    - Indexação e slicing: Semelhante ao NumPy\n",
    "- Integração com NumPy\n",
    "- Tensores podem rastrear gradientes se requires_grad=True for definido, habilitando o cálculo automático de derivadas (útil para treinar redes neurais)."
   ]
  },
  {
   "cell_type": "code",
   "execution_count": 3,
   "metadata": {},
   "outputs": [],
   "source": [
    "transform = transforms.Compose([transforms.ToTensor(), transforms.Normalize((0.5,), (0.5,))])\n",
    "#Dessa forma, a gente normaliza os valores entre -1 e 1"
   ]
  },
  {
   "cell_type": "markdown",
   "metadata": {},
   "source": [
    "### **Obtendo o conjunto de dados MNIST usando o torchvision**\n",
    "\n",
    "**NOTA** \n",
    "\n",
    "- Muitos tutoriais on-line afirmam que as transformações são aplicadas no carregamento. Isso NÃO é verdade. Os transformadores são aplicados somente quando carregados pelo nosso Data Loader. \n",
    "- Nosso conjunto de dados permanece inalterado, apenas os lotes de imagens carregados pelo nosso Data Loader são copiados e transformados a cada iteração.\n",
    "- Veja outros conjuntos de dados que podem ser acessados via torchvision aqui - https://pytorch.org/vision/stable/datasets.html\n"
   ]
  },
  {
   "cell_type": "code",
   "execution_count": 4,
   "metadata": {},
   "outputs": [],
   "source": [
    "#Carregando o conjunto de treino e especificando qual transformador sera usado durante o carregamento. \n",
    "\n",
    "trainset = torchvision.datasets.MNIST('mnist', train = True, download= True, transform = transform)\n",
    "\n",
    "#Carregando os dados de teste e especificando qual transformador sera usando durante o carregamento.\n",
    "\n",
    "testset = torchvision.datasets.MNIST('mnist', train = False, download= True, transform = transform)"
   ]
  },
  {
   "cell_type": "markdown",
   "metadata": {},
   "source": [
    "### Sobre os dados de treinamento e teste\n",
    "\n",
    "Há dois subconjuntos de dados que estão sendo usados aqui:\n",
    "\n",
    "- Dados de treinamento** Dados que são usados para otimizar os parâmetros do modelo (usados durante o treinamento)\n",
    "- Dados de teste/validação** Dados que são usados para avaliar o desempenho do modelo \n",
    "\n",
    "Durante o treinamento, monitoramos o desempenho do modelo nos dados de teste.\n",
    "\n",
    "**Boa prática de aprendizado de máquina**\n",
    "\n",
    "Geralmente, mantemos outro **conjunto de testes** para testar o modelo final a fim de obter uma estimativa imparcial da precisão *fora da amostra*. \n",
    "\n",
    "No entanto, o MNIST não tem um conjunto de teste separado. Portanto, usamos o conjunto de teste para validação e teste. \n"
   ]
  },
  {
   "cell_type": "code",
   "execution_count": 5,
   "metadata": {},
   "outputs": [
    {
     "name": "stdout",
     "output_type": "stream",
     "text": [
      "torch.Size([60000, 28, 28])\n",
      "torch.Size([10000, 28, 28])\n"
     ]
    }
   ],
   "source": [
    "# Temos 60.000 amostras de imagem para nossos dados de treinamento e 10.000 para nossos dados de teste\n",
    "# Cada uma tem 28 x 28 pixels e, como são em escala de cinza, não há uma terceira dimensão em nossa imagem\n",
    "\n",
    "print(trainset.data.shape)\n",
    "print(testset.data.shape)"
   ]
  },
  {
   "cell_type": "markdown",
   "metadata": {},
   "source": [
    "#### **Vamos dar uma olhada em uma amostra individual de dados**\n",
    "\n",
    "Você verá que nossos dados ainda não foram normalizados entre -1 e 1."
   ]
  },
  {
   "cell_type": "code",
   "execution_count": 6,
   "metadata": {},
   "outputs": [
    {
     "name": "stdout",
     "output_type": "stream",
     "text": [
      "torch.Size([28, 28])\n",
      "tensor([[  0,   0,   0,   0,   0,   0,   0,   0,   0,   0,   0,   0,   0,   0,\n",
      "           0,   0,   0,   0,   0,   0,   0,   0,   0,   0,   0,   0,   0,   0],\n",
      "        [  0,   0,   0,   0,   0,   0,   0,   0,   0,   0,   0,   0,   0,   0,\n",
      "           0,   0,   0,   0,   0,   0,   0,   0,   0,   0,   0,   0,   0,   0],\n",
      "        [  0,   0,   0,   0,   0,   0,   0,   0,   0,   0,   0,   0,   0,   0,\n",
      "           0,   0,   0,   0,   0,   0,   0,   0,   0,   0,   0,   0,   0,   0],\n",
      "        [  0,   0,   0,   0,   0,   0,   0,   0,   0,   0,   0,   0,   0,   0,\n",
      "           0,   0,   0,   0,   0,   0,   0,   0,   0,   0,   0,   0,   0,   0],\n",
      "        [  0,   0,   0,   0,   0,   0,   0,   0,   0,   0,   0,   0,   0,   0,\n",
      "           0,   0,   0,   0,   0,   0,   0,   0,   0,   0,   0,   0,   0,   0],\n",
      "        [  0,   0,   0,   0,   0,   0,   0,   0,   0,   0,   0,   0,   3,  18,\n",
      "          18,  18, 126, 136, 175,  26, 166, 255, 247, 127,   0,   0,   0,   0],\n",
      "        [  0,   0,   0,   0,   0,   0,   0,   0,  30,  36,  94, 154, 170, 253,\n",
      "         253, 253, 253, 253, 225, 172, 253, 242, 195,  64,   0,   0,   0,   0],\n",
      "        [  0,   0,   0,   0,   0,   0,   0,  49, 238, 253, 253, 253, 253, 253,\n",
      "         253, 253, 253, 251,  93,  82,  82,  56,  39,   0,   0,   0,   0,   0],\n",
      "        [  0,   0,   0,   0,   0,   0,   0,  18, 219, 253, 253, 253, 253, 253,\n",
      "         198, 182, 247, 241,   0,   0,   0,   0,   0,   0,   0,   0,   0,   0],\n",
      "        [  0,   0,   0,   0,   0,   0,   0,   0,  80, 156, 107, 253, 253, 205,\n",
      "          11,   0,  43, 154,   0,   0,   0,   0,   0,   0,   0,   0,   0,   0],\n",
      "        [  0,   0,   0,   0,   0,   0,   0,   0,   0,  14,   1, 154, 253,  90,\n",
      "           0,   0,   0,   0,   0,   0,   0,   0,   0,   0,   0,   0,   0,   0],\n",
      "        [  0,   0,   0,   0,   0,   0,   0,   0,   0,   0,   0, 139, 253, 190,\n",
      "           2,   0,   0,   0,   0,   0,   0,   0,   0,   0,   0,   0,   0,   0],\n",
      "        [  0,   0,   0,   0,   0,   0,   0,   0,   0,   0,   0,  11, 190, 253,\n",
      "          70,   0,   0,   0,   0,   0,   0,   0,   0,   0,   0,   0,   0,   0],\n",
      "        [  0,   0,   0,   0,   0,   0,   0,   0,   0,   0,   0,   0,  35, 241,\n",
      "         225, 160, 108,   1,   0,   0,   0,   0,   0,   0,   0,   0,   0,   0],\n",
      "        [  0,   0,   0,   0,   0,   0,   0,   0,   0,   0,   0,   0,   0,  81,\n",
      "         240, 253, 253, 119,  25,   0,   0,   0,   0,   0,   0,   0,   0,   0],\n",
      "        [  0,   0,   0,   0,   0,   0,   0,   0,   0,   0,   0,   0,   0,   0,\n",
      "          45, 186, 253, 253, 150,  27,   0,   0,   0,   0,   0,   0,   0,   0],\n",
      "        [  0,   0,   0,   0,   0,   0,   0,   0,   0,   0,   0,   0,   0,   0,\n",
      "           0,  16,  93, 252, 253, 187,   0,   0,   0,   0,   0,   0,   0,   0],\n",
      "        [  0,   0,   0,   0,   0,   0,   0,   0,   0,   0,   0,   0,   0,   0,\n",
      "           0,   0,   0, 249, 253, 249,  64,   0,   0,   0,   0,   0,   0,   0],\n",
      "        [  0,   0,   0,   0,   0,   0,   0,   0,   0,   0,   0,   0,   0,   0,\n",
      "          46, 130, 183, 253, 253, 207,   2,   0,   0,   0,   0,   0,   0,   0],\n",
      "        [  0,   0,   0,   0,   0,   0,   0,   0,   0,   0,   0,   0,  39, 148,\n",
      "         229, 253, 253, 253, 250, 182,   0,   0,   0,   0,   0,   0,   0,   0],\n",
      "        [  0,   0,   0,   0,   0,   0,   0,   0,   0,   0,  24, 114, 221, 253,\n",
      "         253, 253, 253, 201,  78,   0,   0,   0,   0,   0,   0,   0,   0,   0],\n",
      "        [  0,   0,   0,   0,   0,   0,   0,   0,  23,  66, 213, 253, 253, 253,\n",
      "         253, 198,  81,   2,   0,   0,   0,   0,   0,   0,   0,   0,   0,   0],\n",
      "        [  0,   0,   0,   0,   0,   0,  18, 171, 219, 253, 253, 253, 253, 195,\n",
      "          80,   9,   0,   0,   0,   0,   0,   0,   0,   0,   0,   0,   0,   0],\n",
      "        [  0,   0,   0,   0,  55, 172, 226, 253, 253, 253, 253, 244, 133,  11,\n",
      "           0,   0,   0,   0,   0,   0,   0,   0,   0,   0,   0,   0,   0,   0],\n",
      "        [  0,   0,   0,   0, 136, 253, 253, 253, 212, 135, 132,  16,   0,   0,\n",
      "           0,   0,   0,   0,   0,   0,   0,   0,   0,   0,   0,   0,   0,   0],\n",
      "        [  0,   0,   0,   0,   0,   0,   0,   0,   0,   0,   0,   0,   0,   0,\n",
      "           0,   0,   0,   0,   0,   0,   0,   0,   0,   0,   0,   0,   0,   0],\n",
      "        [  0,   0,   0,   0,   0,   0,   0,   0,   0,   0,   0,   0,   0,   0,\n",
      "           0,   0,   0,   0,   0,   0,   0,   0,   0,   0,   0,   0,   0,   0],\n",
      "        [  0,   0,   0,   0,   0,   0,   0,   0,   0,   0,   0,   0,   0,   0,\n",
      "           0,   0,   0,   0,   0,   0,   0,   0,   0,   0,   0,   0,   0,   0]],\n",
      "       dtype=torch.uint8)\n"
     ]
    }
   ],
   "source": [
    "print(trainset.data[0].shape)\n",
    "print(trainset.data[0])"
   ]
  },
  {
   "cell_type": "code",
   "execution_count": 7,
   "metadata": {},
   "outputs": [
    {
     "data": {
      "image/png": "[encoded data removed]",
      "text/plain": [
       "<Figure size 600x600 with 1 Axes>"
      ]
     },
     "metadata": {},
     "output_type": "display_data"
    }
   ],
   "source": [
    "import cv2\n",
    "import numpy as np\n",
    "from matplotlib import pyplot as plt\n",
    "\n",
    "# Define uma funcao para mostrar imagens\n",
    "def imgshow(title=\"\", image = None, size = 6):\n",
    "    w, h = image.shape[0], image.shape[1]\n",
    "    aspect_ratio = w/h\n",
    "    plt.figure(figsize=(size * aspect_ratio,size))\n",
    "    plt.imshow(cv2.cvtColor(image, cv2.COLOR_BGR2RGB))\n",
    "    plt.title(title)\n",
    "    plt.show()\n",
    "\n",
    "# Converter uma imagem para numpy\n",
    "image = trainset.data[0].numpy()\n",
    "imgshow(\"MNIST Sample\", image)"
   ]
  },
  {
   "cell_type": "code",
   "execution_count": 8,
   "metadata": {},
   "outputs": [
    {
     "data": {
      "image/png": "[encoded data removed]",
      "text/plain": [
       "<Figure size 640x480 with 50 Axes>"
      ]
     },
     "metadata": {},
     "output_type": "display_data"
    }
   ],
   "source": [
    "import matplotlib.pyplot as plt\n",
    "\n",
    "figure = plt.figure()\n",
    "num_of_images = 50 \n",
    "\n",
    "for index in range(1, num_of_images + 1):\n",
    "    plt.subplot(5, 10, index)\n",
    "    plt.axis('off')\n",
    "    plt.imshow(trainset.data[index], cmap='gray_r')"
   ]
  },
  {
   "cell_type": "markdown",
   "metadata": {},
   "source": [
    "### CRIANDO UM DATALOADER\n",
    "\n",
    "Um **Data Loader** é uma função que usaremos para obter nossos dados em tamanhos de lote especificados (usaremos 128) durante o treinamento. \n",
    "\n",
    "Lembre-se de que não podemos alimentar a rede com todos os dados de uma só vez, portanto, é por isso que dividimos os dados em lotes. \n",
    "\n",
    "Definimos **shuffle** igual a True para evitar a distorção da sequência de dados. Por exemplo, em alguns conjuntos de dados, cada classe geralmente está em ordem, portanto, para evitar o carregamento de lotes de apenas uma única classe, embaralhamos nossos dados.\n",
    "\n",
    "O ``num_workers`` especifica quantos núcleos de CPU desejamos utilizar; defini-lo como 0 significa que será o processo principal que fará o carregamento de dados quando necessário. Deixe-o como 0, a menos que deseje fazer mais experimentos.\n",
    "\n"
   ]
  },
  {
   "cell_type": "code",
   "execution_count": 9,
   "metadata": {},
   "outputs": [],
   "source": [
    "trainloader = torch.utils.data.DataLoader(trainset, batch_size=128, shuffle=True, num_workers=0)\n",
    "\n",
    "testloader = torch.utils.data.DataLoader(testset, batch_size=128, shuffle=False, num_workers=0)"
   ]
  },
  {
   "cell_type": "code",
   "execution_count": 10,
   "metadata": {},
   "outputs": [
    {
     "name": "stdout",
     "output_type": "stream",
     "text": [
      "torch.Size([128, 1, 28, 28])\n",
      "torch.Size([128])\n"
     ]
    }
   ],
   "source": [
    "#Para podermos manipular mais facilmente, iremos transformar nosso dataloader de treino em um iterator\n",
    "dataiter = iter(trainloader)\n",
    "\n",
    "#nos usamos a função next, para pegar o primeiro batch dos dados em nosso iterator\n",
    "images, labels = dataiter._next_data()\n",
    "\n",
    "print(images.shape)\n",
    "print(labels.shape)"
   ]
  },
  {
   "cell_type": "code",
   "execution_count": 11,
   "metadata": {},
   "outputs": [
    {
     "data": {
      "text/plain": [
       "torch.Size([1, 28, 28])"
      ]
     },
     "execution_count": 11,
     "metadata": {},
     "output_type": "execute_result"
    }
   ],
   "source": [
    "images[0].shape"
   ]
  },
  {
   "cell_type": "markdown",
   "metadata": {},
   "source": [
    "### O Pytorch também possui funções de visualização das imagens"
   ]
  },
  {
   "cell_type": "code",
   "execution_count": 12,
   "metadata": {},
   "outputs": [
    {
     "name": "stderr",
     "output_type": "stream",
     "text": [
      "Clipping input data to the valid range for imshow with RGB data ([0..1] for floats or [0..255] for integers). Got range [-1.0..1.0].\n"
     ]
    },
    {
     "data": {
      "image/png": "[encoded data removed]",
      "text/plain": [
       "<Figure size 640x480 with 1 Axes>"
      ]
     },
     "metadata": {},
     "output_type": "display_data"
    },
    {
     "name": "stdout",
     "output_type": "stream",
     "text": [
      "8 1 1 8 9 3 4 6 0 3 1 3 0 3 2 4 9 1 5 6 9 3 9 6 6 0 8 7 4 5 0 7 6 2 6 6 2 8 3 4 0 2 0 9 3 3 9 4 3 5 4 8 8 6 5 4 9 7 8 2 3 9 6 3 7 3 9 1 9 5 0 4 9 6 8 9 1 4 8 5 0 1 2 9 1 4 6 1 7 3 7 0 3 8 0 7 5 3 7 7 5 2 6 1 2 1 5 7 2 7 3 9 6 1 9 6 0 8 3 0 9 0 7 1 1 0 2 1\n"
     ]
    }
   ],
   "source": [
    "import matplotlib.pyplot as plt\n",
    "import numpy\n",
    "\n",
    "def imshow(image):\n",
    "    img = image / 2 + 0.5\n",
    "    npimg = image.numpy()\n",
    "    plt.imshow(np.transpose(npimg, (1,2,0)))\n",
    "    plt.show()\n",
    "\n",
    "\n",
    "#pegar algumas imagens\n",
    "\n",
    "dataiter = iter(trainloader)\n",
    "images, labels = dataiter._next_data()\n",
    "\n",
    "imshow(torchvision.utils.make_grid(images))\n",
    "print(\" \".join('%1s' % labels[j].numpy() for j in range(128)))"
   ]
  },
  {
   "cell_type": "markdown",
   "metadata": {},
   "source": [
    "# CONTRUINDO O MODELO\n",
    "\n",
    "Usaremos o método ```nn.Sequential`` para construir nosso modelo. Como alternativa, podemos usar o módulo funcional, mas ele é mais simples e mais semelhante aos estilos com os quais você trabalhará no Keras.\n",
    "\n",
    "### Construindo uma camada de filtro de convolução**\n",
    "\n",
    "```\n",
    "nn.Conv2d(in_channels=1,\n",
    "          out_channels=32,\n",
    "          kernel_size=3,\n",
    "          stride=1, \n",
    "          padding=1)\n",
    "```\n",
    "\n",
    "- **in_channels (int)** - Esse é o número de canais na imagem de entrada (para imagens em escala de cinza, use 1 e para imagens coloridas RGB, use 3)\n",
    "- **out_channels (int)** - Esse é o número de canais produzidos pela convolução. Usamos 32 canais ou 32 filtros. **NOTA** 32 será o número de **in_channels** na próxima camada da rede.\n",
    "- **kernel_size (int ou tuple)** - Este é o tamanho do kernel de convolução. Usamos 3 aqui, o que dá um tamanho de kernel de 3 x 3.\n",
    "- stride (int ou tupla, opcional)** - Stride da convolução. (Padrão: 1)\n",
    "- **padding (int ou tupla, opcional)** - Preenchimento zero adicionado a ambos os lados da entrada (Padrão: 0). Usamos um padding = 1.\n",
    "\n",
    "### **Camada de Max Pool**\n",
    "\n",
    "- Cada camada de pooling, ou seja, nn.MaxPool2d(2, 2), reduz pela metade a altura e a largura da imagem, portanto, ao usar 2 camadas de pooling, a altura e a largura são 1/4 dos tamanhos originais.\n",
    "\n",
    "**O que é torch.nn.functional?**\n",
    "\n",
    "Geralmente importado para o namespace F por convenção, esse módulo contém todas as funções da biblioteca torch.nn (enquanto outras partes da biblioteca contêm classes). Além de uma ampla gama de funções de perda e ativação, você também encontrará aqui algumas funções convenientes para a criação de redes neurais, como funções de pooling. (Há também funções para fazer convoluções, camadas lineares, etc., mas, como veremos, essas funções geralmente são mais bem tratadas em outras partes da biblioteca)."
   ]
  },
  {
   "cell_type": "code",
   "execution_count": 13,
   "metadata": {},
   "outputs": [
    {
     "data": {
      "text/plain": [
       "Net(\n",
       "  (conv1): Conv2d(1, 32, kernel_size=(3, 3), stride=(1, 1))\n",
       "  (conv2): Conv2d(32, 64, kernel_size=(3, 3), stride=(1, 1))\n",
       "  (pool): MaxPool2d(kernel_size=2, stride=2, padding=0, dilation=1, ceil_mode=False)\n",
       "  (fc1): Linear(in_features=9216, out_features=128, bias=True)\n",
       "  (fc2): Linear(in_features=128, out_features=10, bias=True)\n",
       ")"
      ]
     },
     "execution_count": 13,
     "metadata": {},
     "output_type": "execute_result"
    }
   ],
   "source": [
    "import torch.nn as nn\n",
    "import torch.nn.functional as F\n",
    "\n",
    "#Modelo é criado usando uma classe\n",
    "\n",
    "class Net(nn.Module):\n",
    "    def __init__(self):\n",
    "        super(Net, self).__init__()\n",
    "\n",
    "        #Definindo objetos de camadas.\n",
    "        #Primeira camada com 32 kernels de 3x3 de tamanho, com stride 1 e padding 0.\n",
    "        self.conv1 = nn.Conv2d(1,32,3,1,0)\n",
    "        #A segunda camada com 64 filtros de 3x3 de tamanho, com stride 1 e padding 0.\n",
    "        self.conv2 = nn.Conv2d(32,64,3,1,0)\n",
    "        #Camada de max pooling 2x2, kernel com stride 2\n",
    "        self.pool = nn.MaxPool2d(2, 2)\n",
    "        #Nossa camada totalmente conectada, recebe a saída do max pooling que é 12x12x64 e conecta com 128 nós\n",
    "        self.fc1 = nn.Linear(64 * 12 * 12, 128)\n",
    "        #Nossa segunda camada totalmente conectada, conecta  os 128 nós de entrada da rede aos 10 nós de saída (as 10 classes do conjunto)\n",
    "        self.fc2 = nn.Linear(128,10)\n",
    "\n",
    "    \n",
    "    def forward(self, x):\n",
    "        #Aqui nós definimos a sequencia de propagação\n",
    "        #lembre-se conv1 - relu - conv2 - relu - max pool - flatten - FC1 - FC2\n",
    "        x = F.relu(self.conv1(x))\n",
    "        x = self.pool(F.relu(self.conv2(x)))\n",
    "        x = x.view(-1, 64 * 12 * 12) #flatten\n",
    "        x = F.relu(self.fc1(x))\n",
    "        x = self.fc2(x)\n",
    "        return x\n",
    "    \n",
    "#Criamos uma instancia do modelo e movemos ele para a GPU para realizar as operações\n",
    "net = Net()\n",
    "net.to(device)"
   ]
  },
  {
   "cell_type": "markdown",
   "metadata": {},
   "source": [
    "### Definindo a nossa função de perda e otimizador.\n",
    "\n",
    "Precisamos definir o tipo de perda que usaremos e o método que usaremos para atualizar os gradientes.\n",
    "1. Usamos a perda de entropia cruzada por se tratar de um problema de várias classes\n",
    "2. Usamos o Stochastic Gradient Descent (SGD) - também especificamos uma taxa de aprendizado (LR) de 0,001 e momentum de 0,9"
   ]
  },
  {
   "cell_type": "code",
   "execution_count": 14,
   "metadata": {},
   "outputs": [],
   "source": [
    "#Importamos a função de otimização\n",
    "\n",
    "#Usamos  a entropia cruzada como função de perda\n",
    "criterio = nn.CrossEntropyLoss()\n",
    "\n",
    "#Para o algoritmo da descida do gradiente usaremos a variação SGD com taxa de aprendizado de 0.001\n",
    "#Iremos setar o momentum em 0.9\n",
    "otimizador = optim.SGD(net.parameters(), lr=0.001, momentum=0.9)"
   ]
  },
  {
   "cell_type": "markdown",
   "metadata": {},
   "source": [
    "### Treinando nosso modelo\n",
    "\n",
    "No PyTorch, usamos as funções de bloco de construção para executar o algoritmo de treinamento com o qual já devemos estar familiarizados.\n",
    "\n",
    "![](https://github.com/rajeevratan84/ModernComputerVision/raw/main/CleanShot%202020-11-29%20at%207.04.32%402x.png)"
   ]
  },
  {
   "cell_type": "code",
   "execution_count": 18,
   "metadata": {},
   "outputs": [
    {
     "name": "stdout",
     "output_type": "stream",
     "text": [
      "Iniciando epoca: 1...\n",
      "Época: 1, Mini-Batches Completados: 50, Loss: 2.276, Test Accuracy = 31.230%\n",
      "Época: 1, Mini-Batches Completados: 100, Loss: 2.156, Test Accuracy = 59.140%\n",
      "Época: 1, Mini-Batches Completados: 150, Loss: 1.797, Test Accuracy = 74.540%\n",
      "Época: 1, Mini-Batches Completados: 200, Loss: 1.057, Test Accuracy = 83.220%\n",
      "Época: 1, Mini-Batches Completados: 250, Loss: 0.612, Test Accuracy = 85.620%\n",
      "Época: 1, Mini-Batches Completados: 300, Loss: 0.489, Test Accuracy = 88.000%\n",
      "Época: 1, Mini-Batches Completados: 350, Loss: 0.406, Test Accuracy = 89.360%\n",
      "Época: 1, Mini-Batches Completados: 400, Loss: 0.394, Test Accuracy = 89.840%\n",
      "Época: 1, Mini-Batches Completados: 450, Loss: 0.361, Test Accuracy = 89.680%\n",
      "Iniciando epoca: 2...\n",
      "Época: 2, Mini-Batches Completados: 50, Loss: 0.365, Test Accuracy = 91.060%\n",
      "Época: 2, Mini-Batches Completados: 100, Loss: 0.326, Test Accuracy = 90.990%\n",
      "Época: 2, Mini-Batches Completados: 150, Loss: 0.333, Test Accuracy = 91.650%\n",
      "Época: 2, Mini-Batches Completados: 200, Loss: 0.312, Test Accuracy = 91.590%\n",
      "Época: 2, Mini-Batches Completados: 250, Loss: 0.306, Test Accuracy = 92.260%\n",
      "Época: 2, Mini-Batches Completados: 300, Loss: 0.296, Test Accuracy = 92.580%\n",
      "Época: 2, Mini-Batches Completados: 350, Loss: 0.276, Test Accuracy = 92.550%\n",
      "Época: 2, Mini-Batches Completados: 400, Loss: 0.268, Test Accuracy = 92.530%\n",
      "Época: 2, Mini-Batches Completados: 450, Loss: 0.258, Test Accuracy = 92.450%\n",
      "Iniciando epoca: 3...\n",
      "Época: 3, Mini-Batches Completados: 50, Loss: 0.246, Test Accuracy = 93.320%\n",
      "Época: 3, Mini-Batches Completados: 100, Loss: 0.227, Test Accuracy = 92.900%\n",
      "Época: 3, Mini-Batches Completados: 150, Loss: 0.231, Test Accuracy = 93.590%\n",
      "Época: 3, Mini-Batches Completados: 200, Loss: 0.260, Test Accuracy = 93.710%\n",
      "Época: 3, Mini-Batches Completados: 250, Loss: 0.233, Test Accuracy = 93.260%\n",
      "Época: 3, Mini-Batches Completados: 300, Loss: 0.238, Test Accuracy = 93.960%\n",
      "Época: 3, Mini-Batches Completados: 350, Loss: 0.223, Test Accuracy = 94.180%\n",
      "Época: 3, Mini-Batches Completados: 400, Loss: 0.216, Test Accuracy = 94.390%\n",
      "Época: 3, Mini-Batches Completados: 450, Loss: 0.202, Test Accuracy = 94.130%\n",
      "Iniciando epoca: 4...\n",
      "Época: 4, Mini-Batches Completados: 50, Loss: 0.192, Test Accuracy = 94.770%\n",
      "Época: 4, Mini-Batches Completados: 100, Loss: 0.200, Test Accuracy = 94.720%\n",
      "Época: 4, Mini-Batches Completados: 150, Loss: 0.189, Test Accuracy = 95.000%\n",
      "Época: 4, Mini-Batches Completados: 200, Loss: 0.188, Test Accuracy = 94.770%\n",
      "Época: 4, Mini-Batches Completados: 250, Loss: 0.183, Test Accuracy = 95.200%\n",
      "Época: 4, Mini-Batches Completados: 300, Loss: 0.181, Test Accuracy = 95.320%\n",
      "Época: 4, Mini-Batches Completados: 350, Loss: 0.169, Test Accuracy = 95.370%\n",
      "Época: 4, Mini-Batches Completados: 400, Loss: 0.159, Test Accuracy = 95.350%\n",
      "Época: 4, Mini-Batches Completados: 450, Loss: 0.156, Test Accuracy = 95.530%\n",
      "Iniciando epoca: 5...\n",
      "Época: 5, Mini-Batches Completados: 50, Loss: 0.165, Test Accuracy = 95.650%\n",
      "Época: 5, Mini-Batches Completados: 100, Loss: 0.139, Test Accuracy = 95.820%\n",
      "Época: 5, Mini-Batches Completados: 150, Loss: 0.140, Test Accuracy = 96.010%\n",
      "Época: 5, Mini-Batches Completados: 200, Loss: 0.148, Test Accuracy = 95.980%\n",
      "Época: 5, Mini-Batches Completados: 250, Loss: 0.138, Test Accuracy = 96.450%\n",
      "Época: 5, Mini-Batches Completados: 300, Loss: 0.139, Test Accuracy = 96.420%\n",
      "Época: 5, Mini-Batches Completados: 350, Loss: 0.138, Test Accuracy = 96.400%\n",
      "Época: 5, Mini-Batches Completados: 400, Loss: 0.131, Test Accuracy = 96.290%\n",
      "Época: 5, Mini-Batches Completados: 450, Loss: 0.134, Test Accuracy = 96.630%\n",
      "Iniciando epoca: 6...\n",
      "Época: 6, Mini-Batches Completados: 50, Loss: 0.130, Test Accuracy = 96.590%\n",
      "Época: 6, Mini-Batches Completados: 100, Loss: 0.124, Test Accuracy = 96.630%\n",
      "Época: 6, Mini-Batches Completados: 150, Loss: 0.115, Test Accuracy = 96.780%\n",
      "Época: 6, Mini-Batches Completados: 200, Loss: 0.110, Test Accuracy = 96.920%\n",
      "Época: 6, Mini-Batches Completados: 250, Loss: 0.116, Test Accuracy = 96.850%\n",
      "Época: 6, Mini-Batches Completados: 300, Loss: 0.116, Test Accuracy = 96.590%\n",
      "Época: 6, Mini-Batches Completados: 350, Loss: 0.116, Test Accuracy = 96.770%\n",
      "Época: 6, Mini-Batches Completados: 400, Loss: 0.112, Test Accuracy = 97.030%\n",
      "Época: 6, Mini-Batches Completados: 450, Loss: 0.106, Test Accuracy = 97.080%\n",
      "Iniciando epoca: 7...\n",
      "Época: 7, Mini-Batches Completados: 50, Loss: 0.110, Test Accuracy = 97.130%\n",
      "Época: 7, Mini-Batches Completados: 100, Loss: 0.096, Test Accuracy = 97.130%\n",
      "Época: 7, Mini-Batches Completados: 150, Loss: 0.100, Test Accuracy = 97.360%\n",
      "Época: 7, Mini-Batches Completados: 200, Loss: 0.095, Test Accuracy = 97.350%\n",
      "Época: 7, Mini-Batches Completados: 250, Loss: 0.100, Test Accuracy = 97.250%\n",
      "Época: 7, Mini-Batches Completados: 300, Loss: 0.099, Test Accuracy = 97.420%\n",
      "Época: 7, Mini-Batches Completados: 350, Loss: 0.092, Test Accuracy = 97.380%\n",
      "Época: 7, Mini-Batches Completados: 400, Loss: 0.089, Test Accuracy = 97.480%\n",
      "Época: 7, Mini-Batches Completados: 450, Loss: 0.080, Test Accuracy = 97.440%\n",
      "Iniciando epoca: 8...\n",
      "Época: 8, Mini-Batches Completados: 50, Loss: 0.089, Test Accuracy = 97.430%\n",
      "Época: 8, Mini-Batches Completados: 100, Loss: 0.091, Test Accuracy = 97.400%\n",
      "Época: 8, Mini-Batches Completados: 150, Loss: 0.078, Test Accuracy = 97.500%\n",
      "Época: 8, Mini-Batches Completados: 200, Loss: 0.085, Test Accuracy = 97.530%\n",
      "Época: 8, Mini-Batches Completados: 250, Loss: 0.084, Test Accuracy = 97.810%\n",
      "Época: 8, Mini-Batches Completados: 300, Loss: 0.068, Test Accuracy = 97.650%\n",
      "Época: 8, Mini-Batches Completados: 350, Loss: 0.087, Test Accuracy = 97.760%\n",
      "Época: 8, Mini-Batches Completados: 400, Loss: 0.084, Test Accuracy = 97.580%\n",
      "Época: 8, Mini-Batches Completados: 450, Loss: 0.076, Test Accuracy = 97.810%\n",
      "Iniciando epoca: 9...\n",
      "Época: 9, Mini-Batches Completados: 50, Loss: 0.074, Test Accuracy = 97.840%\n",
      "Época: 9, Mini-Batches Completados: 100, Loss: 0.069, Test Accuracy = 97.820%\n",
      "Época: 9, Mini-Batches Completados: 150, Loss: 0.077, Test Accuracy = 97.870%\n",
      "Época: 9, Mini-Batches Completados: 200, Loss: 0.080, Test Accuracy = 97.950%\n",
      "Época: 9, Mini-Batches Completados: 250, Loss: 0.071, Test Accuracy = 97.850%\n",
      "Época: 9, Mini-Batches Completados: 300, Loss: 0.077, Test Accuracy = 97.960%\n",
      "Época: 9, Mini-Batches Completados: 350, Loss: 0.073, Test Accuracy = 97.870%\n",
      "Época: 9, Mini-Batches Completados: 400, Loss: 0.069, Test Accuracy = 97.890%\n",
      "Época: 9, Mini-Batches Completados: 450, Loss: 0.065, Test Accuracy = 98.070%\n",
      "Iniciando epoca: 10...\n",
      "Época: 10, Mini-Batches Completados: 50, Loss: 0.070, Test Accuracy = 98.000%\n",
      "Época: 10, Mini-Batches Completados: 100, Loss: 0.068, Test Accuracy = 97.930%\n",
      "Época: 10, Mini-Batches Completados: 150, Loss: 0.064, Test Accuracy = 98.130%\n",
      "Época: 10, Mini-Batches Completados: 200, Loss: 0.068, Test Accuracy = 98.030%\n",
      "Época: 10, Mini-Batches Completados: 250, Loss: 0.056, Test Accuracy = 97.970%\n",
      "Época: 10, Mini-Batches Completados: 300, Loss: 0.056, Test Accuracy = 98.060%\n",
      "Época: 10, Mini-Batches Completados: 350, Loss: 0.065, Test Accuracy = 97.900%\n",
      "Época: 10, Mini-Batches Completados: 400, Loss: 0.065, Test Accuracy = 98.100%\n",
      "Época: 10, Mini-Batches Completados: 450, Loss: 0.068, Test Accuracy = 98.080%\n",
      "Treino finalizado\n"
     ]
    }
   ],
   "source": [
    "#Fazemos um loop sobre o conjunto de dados de treinamento várias vezes (cada vez é chamada de época)\n",
    "\n",
    "epochs = 10\n",
    "\n",
    "## Criar algumas matrizes vazias para armazenar os registros \n",
    "\n",
    "epoch_log = []\n",
    "loss_log = []\n",
    "accuracy_log = []\n",
    "\n",
    "for epoch in range(epochs):  \n",
    "    print(f'Iniciando epoca: {epoch+1}...')\n",
    "\n",
    "    # nos mantemos adicionando ou acumulando nossa perda após cada mini-batch in running_loss\n",
    "    running_loss = 0.0\n",
    "\n",
    "    #Nós iteramos em nosso iterador de treino\n",
    "    # Cada ciclo é um minilote\n",
    "\n",
    "    for i, data in enumerate(trainloader, 0):\n",
    "        # pegando a entrada, data é uma lista de [inputs, labels]\n",
    "        inputs, labels = data\n",
    "\n",
    "        # Move os dados para a GPU\n",
    "        inputs = inputs.to(device)\n",
    "        labels = labels.to(device)\n",
    "\n",
    "        #Limpar os gradientes antes de treinar, pela configuração do zero\n",
    "        #Necessario para um novo começo\n",
    "        otimizador.zero_grad()\n",
    "\n",
    "        #Forward -> backpropagation -> otimizador\n",
    "        outputs = net(inputs) #Forward propagation\n",
    "        loss = criterio(outputs, labels) #Pega a perda (quantifica a diferença entre os resultados e predições)\n",
    "        loss.backward() #back propagate para obter o novo gradiente para todos os nós\n",
    "        otimizador.step() #Atualiza os pesos\n",
    "\n",
    "        # Print training statistics - ÉPOCA/ITERAÇÕES/LOSS/ACURÁCIA\n",
    "        running_loss += loss.item()\n",
    "\n",
    "        if i % 50 == 49: #mostra o loss a cada 50 mini-batches\n",
    "            correct = 0 #Inicializa nossa variável para manter a contagem das previsões corretas \n",
    "            total = 0 #Inicialize nossa variável para manter a contagem do número de rótulos iterados\n",
    "\n",
    "            # Não precisamos de gradientes para a validação, portanto, envolva \n",
    "            # no_grad para economizar memória\n",
    "\n",
    "            with torch.no_grad():\n",
    "                #Itera atraves do loader de test\n",
    "                for data in testloader:\n",
    "                    images, labels = data\n",
    "                    images = images.to(device)\n",
    "                    labels = labels.to(device)\n",
    "\n",
    "                    # Foward propagete nos dados de test batch\n",
    "                    outputs = net(images)\n",
    "\n",
    "                    #Obter previsões a partir do valor máximo do tensor de saída previsto\n",
    "                    #definimos dim = 1, pois ele especifica o número de dimensões a serem reduzidas\n",
    "                    _, predicted = torch.max(outputs.data, dim=1)\n",
    "                    \n",
    "                    #Continue adicionando o tamanho ou o comprimento do rotulo à variável total\n",
    "                    total += labels.size(0)\n",
    "\n",
    "                    # Mantenha um total em execução do número de previsões feitas corretamente\n",
    "                    correct += (predicted == labels).sum().item()\n",
    "                \n",
    "                accuracy = 100 * correct / total\n",
    "                epoch_num = epoch + 1\n",
    "                actual_loss = running_loss / 50\n",
    "                print(f'Época: {epoch_num}, Mini-Batches Completados: {(i+1)}, Loss: {actual_loss:.3f}, Test Accuracy = {accuracy:.3f}%')\n",
    "                running_loss = 0.0\n",
    "\n",
    "    # Guarda os status do treino aós cada epoca\n",
    "    epoch_log.append(epoch_num)\n",
    "    loss_log.append(actual_loss)\n",
    "    accuracy_log.append(accuracy)\n",
    "\n",
    "print(\"Treino finalizado\")"
   ]
  },
  {
   "cell_type": "markdown",
   "metadata": {},
   "source": [
    "## Salvando o nosso modelo\n",
    "\n",
    "Usamos a função torch.save()\n",
    "\n",
    "net.state_dict() salva os pesos do modelo em um formato de dicionário"
   ]
  },
  {
   "cell_type": "code",
   "execution_count": 19,
   "metadata": {},
   "outputs": [],
   "source": [
    "PATH = './mnist_cnn_net.pth'\n",
    "torch.save(net.state_dict(), PATH)"
   ]
  },
  {
   "cell_type": "markdown",
   "metadata": {},
   "source": [
    "## Vendo algumas imagens dos dados de teste e ver os rótulos verdadeiros"
   ]
  },
  {
   "cell_type": "code",
   "execution_count": 29,
   "metadata": {},
   "outputs": [
    {
     "name": "stderr",
     "output_type": "stream",
     "text": [
      "Clipping input data to the valid range for imshow with RGB data ([0..1] for floats or [0..255] for integers). Got range [-1.0..1.0].\n"
     ]
    },
    {
     "data": {
      "image/png": "[encoded data removed]",
      "text/plain": [
       "<Figure size 640x480 with 1 Axes>"
      ]
     },
     "metadata": {},
     "output_type": "display_data"
    },
    {
     "name": "stdout",
     "output_type": "stream",
     "text": [
      "GroundTruth: \n",
      " Imagem (0) - Valor verdadeiro:  7 \n",
      "Imagem (1) - Valor verdadeiro:  2 \n",
      "Imagem (2) - Valor verdadeiro:  1 \n",
      "Imagem (3) - Valor verdadeiro:  0 \n",
      "Imagem (4) - Valor verdadeiro:  4 \n",
      "Imagem (5) - Valor verdadeiro:  1 \n",
      "Imagem (6) - Valor verdadeiro:  4 \n",
      "Imagem (7) - Valor verdadeiro:  9 \n",
      "Imagem (8) - Valor verdadeiro:  5 \n",
      "Imagem (9) - Valor verdadeiro:  9 \n",
      "Imagem (10) - Valor verdadeiro:  0 \n",
      "Imagem (11) - Valor verdadeiro:  6 \n",
      "Imagem (12) - Valor verdadeiro:  9 \n",
      "Imagem (13) - Valor verdadeiro:  0 \n",
      "Imagem (14) - Valor verdadeiro:  1 \n",
      "Imagem (15) - Valor verdadeiro:  5 \n",
      "Imagem (16) - Valor verdadeiro:  9 \n",
      "Imagem (17) - Valor verdadeiro:  7 \n",
      "Imagem (18) - Valor verdadeiro:  3 \n",
      "Imagem (19) - Valor verdadeiro:  4 \n",
      "Imagem (20) - Valor verdadeiro:  9 \n",
      "Imagem (21) - Valor verdadeiro:  6 \n",
      "Imagem (22) - Valor verdadeiro:  6 \n",
      "Imagem (23) - Valor verdadeiro:  5 \n",
      "Imagem (24) - Valor verdadeiro:  4 \n",
      "Imagem (25) - Valor verdadeiro:  0 \n",
      "Imagem (26) - Valor verdadeiro:  7 \n",
      "Imagem (27) - Valor verdadeiro:  4 \n",
      "Imagem (28) - Valor verdadeiro:  0 \n",
      "Imagem (29) - Valor verdadeiro:  1 \n",
      "Imagem (30) - Valor verdadeiro:  3 \n",
      "Imagem (31) - Valor verdadeiro:  1 \n",
      "Imagem (32) - Valor verdadeiro:  3 \n",
      "Imagem (33) - Valor verdadeiro:  4 \n",
      "Imagem (34) - Valor verdadeiro:  7 \n",
      "Imagem (35) - Valor verdadeiro:  2 \n",
      "Imagem (36) - Valor verdadeiro:  7 \n",
      "Imagem (37) - Valor verdadeiro:  1 \n",
      "Imagem (38) - Valor verdadeiro:  2 \n",
      "Imagem (39) - Valor verdadeiro:  1 \n",
      "Imagem (40) - Valor verdadeiro:  1 \n",
      "Imagem (41) - Valor verdadeiro:  7 \n",
      "Imagem (42) - Valor verdadeiro:  4 \n",
      "Imagem (43) - Valor verdadeiro:  2 \n",
      "Imagem (44) - Valor verdadeiro:  3 \n",
      "Imagem (45) - Valor verdadeiro:  5 \n",
      "Imagem (46) - Valor verdadeiro:  1 \n",
      "Imagem (47) - Valor verdadeiro:  2 \n",
      "Imagem (48) - Valor verdadeiro:  4 \n",
      "Imagem (49) - Valor verdadeiro:  4 \n",
      "Imagem (50) - Valor verdadeiro:  6 \n",
      "Imagem (51) - Valor verdadeiro:  3 \n",
      "Imagem (52) - Valor verdadeiro:  5 \n",
      "Imagem (53) - Valor verdadeiro:  5 \n",
      "Imagem (54) - Valor verdadeiro:  6 \n",
      "Imagem (55) - Valor verdadeiro:  0 \n",
      "Imagem (56) - Valor verdadeiro:  4 \n",
      "Imagem (57) - Valor verdadeiro:  1 \n",
      "Imagem (58) - Valor verdadeiro:  9 \n",
      "Imagem (59) - Valor verdadeiro:  5 \n",
      "Imagem (60) - Valor verdadeiro:  7 \n",
      "Imagem (61) - Valor verdadeiro:  8 \n",
      "Imagem (62) - Valor verdadeiro:  9 \n",
      "Imagem (63) - Valor verdadeiro:  3 \n",
      "Imagem (64) - Valor verdadeiro:  7 \n",
      "Imagem (65) - Valor verdadeiro:  4 \n",
      "Imagem (66) - Valor verdadeiro:  6 \n",
      "Imagem (67) - Valor verdadeiro:  4 \n",
      "Imagem (68) - Valor verdadeiro:  3 \n",
      "Imagem (69) - Valor verdadeiro:  0 \n",
      "Imagem (70) - Valor verdadeiro:  7 \n",
      "Imagem (71) - Valor verdadeiro:  0 \n",
      "Imagem (72) - Valor verdadeiro:  2 \n",
      "Imagem (73) - Valor verdadeiro:  9 \n",
      "Imagem (74) - Valor verdadeiro:  1 \n",
      "Imagem (75) - Valor verdadeiro:  7 \n",
      "Imagem (76) - Valor verdadeiro:  3 \n",
      "Imagem (77) - Valor verdadeiro:  2 \n",
      "Imagem (78) - Valor verdadeiro:  9 \n",
      "Imagem (79) - Valor verdadeiro:  7 \n",
      "Imagem (80) - Valor verdadeiro:  7 \n",
      "Imagem (81) - Valor verdadeiro:  6 \n",
      "Imagem (82) - Valor verdadeiro:  2 \n",
      "Imagem (83) - Valor verdadeiro:  7 \n",
      "Imagem (84) - Valor verdadeiro:  8 \n",
      "Imagem (85) - Valor verdadeiro:  4 \n",
      "Imagem (86) - Valor verdadeiro:  7 \n",
      "Imagem (87) - Valor verdadeiro:  3 \n",
      "Imagem (88) - Valor verdadeiro:  6 \n",
      "Imagem (89) - Valor verdadeiro:  1 \n",
      "Imagem (90) - Valor verdadeiro:  3 \n",
      "Imagem (91) - Valor verdadeiro:  6 \n",
      "Imagem (92) - Valor verdadeiro:  9 \n",
      "Imagem (93) - Valor verdadeiro:  3 \n",
      "Imagem (94) - Valor verdadeiro:  1 \n",
      "Imagem (95) - Valor verdadeiro:  4 \n",
      "Imagem (96) - Valor verdadeiro:  1 \n",
      "Imagem (97) - Valor verdadeiro:  7 \n",
      "Imagem (98) - Valor verdadeiro:  6 \n",
      "Imagem (99) - Valor verdadeiro:  9 \n",
      "Imagem (100) - Valor verdadeiro:  6 \n",
      "Imagem (101) - Valor verdadeiro:  0 \n",
      "Imagem (102) - Valor verdadeiro:  5 \n",
      "Imagem (103) - Valor verdadeiro:  4 \n",
      "Imagem (104) - Valor verdadeiro:  9 \n",
      "Imagem (105) - Valor verdadeiro:  9 \n",
      "Imagem (106) - Valor verdadeiro:  2 \n",
      "Imagem (107) - Valor verdadeiro:  1 \n",
      "Imagem (108) - Valor verdadeiro:  9 \n",
      "Imagem (109) - Valor verdadeiro:  4 \n",
      "Imagem (110) - Valor verdadeiro:  8 \n",
      "Imagem (111) - Valor verdadeiro:  7 \n",
      "Imagem (112) - Valor verdadeiro:  3 \n",
      "Imagem (113) - Valor verdadeiro:  9 \n",
      "Imagem (114) - Valor verdadeiro:  7 \n",
      "Imagem (115) - Valor verdadeiro:  4 \n",
      "Imagem (116) - Valor verdadeiro:  4 \n",
      "Imagem (117) - Valor verdadeiro:  4 \n",
      "Imagem (118) - Valor verdadeiro:  9 \n",
      "Imagem (119) - Valor verdadeiro:  2 \n",
      "Imagem (120) - Valor verdadeiro:  5 \n",
      "Imagem (121) - Valor verdadeiro:  4 \n",
      "Imagem (122) - Valor verdadeiro:  7 \n",
      "Imagem (123) - Valor verdadeiro:  6 \n",
      "Imagem (124) - Valor verdadeiro:  7 \n",
      "Imagem (125) - Valor verdadeiro:  9 \n",
      "Imagem (126) - Valor verdadeiro:  0 \n",
      "Imagem (127) - Valor verdadeiro:  5 \n",
      "\n"
     ]
    }
   ],
   "source": [
    "# Vendo um pequeno lote\n",
    "dataiter = iter(testloader)\n",
    "images, labels = next(dataiter)\n",
    "\n",
    "# Mostrar as imagens usando torchvision's utils.make_grid()\n",
    "imshow(torchvision.utils.make_grid(images))\n",
    "print('GroundTruth: \\n',''.join(f'Imagem ({j}) - Valor verdadeiro:  %1s \\n' % labels[j].numpy() for j in range(128)))"
   ]
  },
  {
   "cell_type": "markdown",
   "metadata": {},
   "source": [
    "## Carregando o modelo treinado"
   ]
  },
  {
   "cell_type": "code",
   "execution_count": 22,
   "metadata": {},
   "outputs": [
    {
     "data": {
      "text/plain": [
       "<All keys matched successfully>"
      ]
     },
     "execution_count": 22,
     "metadata": {},
     "output_type": "execute_result"
    }
   ],
   "source": [
    "net = Net()\n",
    "net.to(device)\n",
    "\n",
    "# Load weights from the specified path\n",
    "net.load_state_dict(torch.load(PATH))"
   ]
  },
  {
   "cell_type": "markdown",
   "metadata": {},
   "source": [
    "## Fazendo previsões\n",
    "\n",
    "Observe que, ao trabalhar com tensores na GPU, temos que convertê-los novamente em uma matriz numérica para realizar operações python neles."
   ]
  },
  {
   "cell_type": "code",
   "execution_count": null,
   "metadata": {},
   "outputs": [
    {
     "name": "stdout",
     "output_type": "stream",
     "text": [
      "Predicted: \n",
      " Imagem (0) - Resultado:  7 \n",
      "Imagem (1) - Resultado:  2 \n",
      "Imagem (2) - Resultado:  1 \n",
      "Imagem (3) - Resultado:  0 \n",
      "Imagem (4) - Resultado:  4 \n",
      "Imagem (5) - Resultado:  1 \n",
      "Imagem (6) - Resultado:  4 \n",
      "Imagem (7) - Resultado:  9 \n",
      "Imagem (8) - Resultado:  6 \n",
      "Imagem (9) - Resultado:  9 \n",
      "Imagem (10) - Resultado:  0 \n",
      "Imagem (11) - Resultado:  6 \n",
      "Imagem (12) - Resultado:  9 \n",
      "Imagem (13) - Resultado:  0 \n",
      "Imagem (14) - Resultado:  1 \n",
      "Imagem (15) - Resultado:  5 \n",
      "Imagem (16) - Resultado:  9 \n",
      "Imagem (17) - Resultado:  7 \n",
      "Imagem (18) - Resultado:  3 \n",
      "Imagem (19) - Resultado:  4 \n",
      "Imagem (20) - Resultado:  9 \n",
      "Imagem (21) - Resultado:  6 \n",
      "Imagem (22) - Resultado:  6 \n",
      "Imagem (23) - Resultado:  5 \n",
      "Imagem (24) - Resultado:  4 \n",
      "Imagem (25) - Resultado:  0 \n",
      "Imagem (26) - Resultado:  7 \n",
      "Imagem (27) - Resultado:  4 \n",
      "Imagem (28) - Resultado:  0 \n",
      "Imagem (29) - Resultado:  1 \n",
      "Imagem (30) - Resultado:  3 \n",
      "Imagem (31) - Resultado:  1 \n",
      "Imagem (32) - Resultado:  3 \n",
      "Imagem (33) - Resultado:  4 \n",
      "Imagem (34) - Resultado:  7 \n",
      "Imagem (35) - Resultado:  2 \n",
      "Imagem (36) - Resultado:  7 \n",
      "Imagem (37) - Resultado:  1 \n",
      "Imagem (38) - Resultado:  2 \n",
      "Imagem (39) - Resultado:  1 \n",
      "Imagem (40) - Resultado:  1 \n",
      "Imagem (41) - Resultado:  7 \n",
      "Imagem (42) - Resultado:  4 \n",
      "Imagem (43) - Resultado:  2 \n",
      "Imagem (44) - Resultado:  3 \n",
      "Imagem (45) - Resultado:  5 \n",
      "Imagem (46) - Resultado:  1 \n",
      "Imagem (47) - Resultado:  2 \n",
      "Imagem (48) - Resultado:  4 \n",
      "Imagem (49) - Resultado:  4 \n",
      "Imagem (50) - Resultado:  6 \n",
      "Imagem (51) - Resultado:  3 \n",
      "Imagem (52) - Resultado:  5 \n",
      "Imagem (53) - Resultado:  5 \n",
      "Imagem (54) - Resultado:  6 \n",
      "Imagem (55) - Resultado:  0 \n",
      "Imagem (56) - Resultado:  4 \n",
      "Imagem (57) - Resultado:  1 \n",
      "Imagem (58) - Resultado:  9 \n",
      "Imagem (59) - Resultado:  5 \n",
      "Imagem (60) - Resultado:  7 \n",
      "Imagem (61) - Resultado:  8 \n",
      "Imagem (62) - Resultado:  9 \n",
      "Imagem (63) - Resultado:  3 \n",
      "Imagem (64) - Resultado:  7 \n",
      "Imagem (65) - Resultado:  4 \n",
      "Imagem (66) - Resultado:  6 \n",
      "Imagem (67) - Resultado:  4 \n",
      "Imagem (68) - Resultado:  3 \n",
      "Imagem (69) - Resultado:  0 \n",
      "Imagem (70) - Resultado:  7 \n",
      "Imagem (71) - Resultado:  0 \n",
      "Imagem (72) - Resultado:  2 \n",
      "Imagem (73) - Resultado:  9 \n",
      "Imagem (74) - Resultado:  1 \n",
      "Imagem (75) - Resultado:  7 \n",
      "Imagem (76) - Resultado:  3 \n",
      "Imagem (77) - Resultado:  2 \n",
      "Imagem (78) - Resultado:  9 \n",
      "Imagem (79) - Resultado:  7 \n",
      "Imagem (80) - Resultado:  7 \n",
      "Imagem (81) - Resultado:  6 \n",
      "Imagem (82) - Resultado:  2 \n",
      "Imagem (83) - Resultado:  7 \n",
      "Imagem (84) - Resultado:  8 \n",
      "Imagem (85) - Resultado:  4 \n",
      "Imagem (86) - Resultado:  7 \n",
      "Imagem (87) - Resultado:  3 \n",
      "Imagem (88) - Resultado:  6 \n",
      "Imagem (89) - Resultado:  1 \n",
      "Imagem (90) - Resultado:  3 \n",
      "Imagem (91) - Resultado:  6 \n",
      "Imagem (92) - Resultado:  4 \n",
      "Imagem (93) - Resultado:  3 \n",
      "Imagem (94) - Resultado:  1 \n",
      "Imagem (95) - Resultado:  4 \n",
      "Imagem (96) - Resultado:  1 \n",
      "Imagem (97) - Resultado:  7 \n",
      "Imagem (98) - Resultado:  6 \n",
      "Imagem (99) - Resultado:  9 \n",
      "Imagem (100) - Resultado:  6 \n",
      "Imagem (101) - Resultado:  0 \n",
      "Imagem (102) - Resultado:  5 \n",
      "Imagem (103) - Resultado:  4 \n",
      "Imagem (104) - Resultado:  9 \n",
      "Imagem (105) - Resultado:  9 \n",
      "Imagem (106) - Resultado:  2 \n",
      "Imagem (107) - Resultado:  1 \n",
      "Imagem (108) - Resultado:  9 \n",
      "Imagem (109) - Resultado:  4 \n",
      "Imagem (110) - Resultado:  8 \n",
      "Imagem (111) - Resultado:  7 \n",
      "Imagem (112) - Resultado:  3 \n",
      "Imagem (113) - Resultado:  9 \n",
      "Imagem (114) - Resultado:  7 \n",
      "Imagem (115) - Resultado:  4 \n",
      "Imagem (116) - Resultado:  4 \n",
      "Imagem (117) - Resultado:  4 \n",
      "Imagem (118) - Resultado:  9 \n",
      "Imagem (119) - Resultado:  2 \n",
      "Imagem (120) - Resultado:  5 \n",
      "Imagem (121) - Resultado:  4 \n",
      "Imagem (122) - Resultado:  7 \n",
      "Imagem (123) - Resultado:  6 \n",
      "Imagem (124) - Resultado:  7 \n",
      "Imagem (125) - Resultado:  9 \n",
      "Imagem (126) - Resultado:  0 \n",
      "Imagem (127) - Resultado:  5 \n",
      "\n"
     ]
    }
   ],
   "source": [
    "## Vamos propagar um minilote e obter os resultados previstos\n",
    "# Usamos a função Python iter para retornar um iterador para nosso objeto test_loader\n",
    "\n",
    "test_iter = iter(testloader)\n",
    "\n",
    "# Usamos next para obter o primeiro lote de dados do nosso iterador\n",
    "images, labels = next(test_iter)\n",
    "\n",
    "images = images.to(device)\n",
    "labels = labels.to(device)\n",
    "\n",
    "outputs = net(images)\n",
    "\n",
    "_, predicted = torch.max(outputs, 1)\n",
    "\n",
    "# Print our 128 predictions\n",
    "print('Predicted: \\n', ''.join(f'Imagem ({j}) - Resultado:  %1s \\n' % predicted[j].cpu().numpy() for j in range(128)))"
   ]
  },
  {
   "cell_type": "code",
   "execution_count": 30,
   "metadata": {},
   "outputs": [
    {
     "name": "stdout",
     "output_type": "stream",
     "text": [
      "Acurácia da rede sobre 1000 imagens foi: 98.1%\n"
     ]
    }
   ],
   "source": [
    "correct = 0 \n",
    "total = 0\n",
    "\n",
    "with torch.no_grad():\n",
    "    for data in testloader:\n",
    "        images, labels = data\n",
    "        \n",
    "        images = images.to(device)\n",
    "        labels = labels.to(device)\n",
    "        outputs = net(images)\n",
    "        _, predicted = torch.max(outputs.data, 1)\n",
    "        total += labels.size(0)\n",
    "        correct += (predicted == labels).sum().item()\n",
    "\n",
    "accuracy = 100 * correct / total\n",
    "print(f'Acurácia da rede sobre 1000 imagens foi: {accuracy:.3}%')"
   ]
  }
 ],
 "metadata": {
  "kernelspec": {
   "display_name": "MODERN",
   "language": "python",
   "name": "python3"
  },
  "language_info": {
   "codemirror_mode": {
    "name": "ipython",
    "version": 3
   },
   "file_extension": ".py",
   "mimetype": "text/x-python",
   "name": "python",
   "nbconvert_exporter": "python",
   "pygments_lexer": "ipython3",
   "version": "3.13.2"
  }
 },
 "nbformat": 4,
 "nbformat_minor": 2
}
