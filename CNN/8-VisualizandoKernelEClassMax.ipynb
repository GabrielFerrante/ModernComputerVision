{
 "cells": [
  {
   "cell_type": "markdown",
   "id": "0038b907-ceb0-49a0-824a-b5bf0f311586",
   "metadata": {},
   "source": [
    "# **Maximização de filtros e classes**\n",
    "\n",
    "---\n",
    "\n",
    "\n",
    "Nesta lição, usamos o **Keras com TensorFlow 2.0** para visualizar o seguinte (veja abaixo). Isso o ajuda a entender melhor o que está acontecendo nos bastidores e a desmistificar alguns dos aspectos da aprendizagem profunda.\n",
    "1. Maximização do filtro\n",
    "2. Maximização de classe"
   ]
  },
  {
   "cell_type": "markdown",
   "id": "27128170-ecef-4b99-aff9-68760b325977",
   "metadata": {},
   "source": [
    "## Maximizando as ativações do filtro\n",
    "\n",
    "Em princípio, o processo é relativamente simples.\n",
    "1. Você criará uma função de perda que maximiza o valor de um determinado filtro em uma determinada camada de convolução\n",
    "2. Você usará o Stochastic Gradient Descent para ajustar os valores da imagem de entrada de modo a maximizar esse valor de ativação. \n",
    "\n",
    "**OBSERVAÇÃO** Isso é mais fácil de implementar no TF1.14, portanto, faremos o downgrade do nosso pacote Tensorflow para que isso funcione.\n"
   ]
  },
  {
   "cell_type": "markdown",
   "id": "e370e9d9-b38a-4335-a8cf-97b33e8344d7",
   "metadata": {},
   "source": [
    "# **Visualising Conv Filters Maximisations**\n",
    "\n",
    "Instalar o tf-keras-vis. https://github.com/keisen/tf-keras-vis"
   ]
  },
  {
   "cell_type": "code",
   "execution_count": 1,
   "id": "0003d7a9-e794-4ca3-acfa-57d443885ef4",
   "metadata": {},
   "outputs": [
    {
     "name": "stderr",
     "output_type": "stream",
     "text": [
      "2025-05-13 00:36:27.109613: E external/local_xla/xla/stream_executor/cuda/cuda_fft.cc:467] Unable to register cuFFT factory: Attempting to register factory for plugin cuFFT when one has already been registered\n",
      "WARNING: All log messages before absl::InitializeLog() is called are written to STDERR\n",
      "E0000 00:00:1747107387.291868    3717 cuda_dnn.cc:8579] Unable to register cuDNN factory: Attempting to register factory for plugin cuDNN when one has already been registered\n",
      "E0000 00:00:1747107387.335989    3717 cuda_blas.cc:1407] Unable to register cuBLAS factory: Attempting to register factory for plugin cuBLAS when one has already been registered\n",
      "W0000 00:00:1747107387.736441    3717 computation_placer.cc:177] computation placer already registered. Please check linkage and avoid linking the same target more than once.\n",
      "W0000 00:00:1747107387.736490    3717 computation_placer.cc:177] computation placer already registered. Please check linkage and avoid linking the same target more than once.\n",
      "W0000 00:00:1747107387.736492    3717 computation_placer.cc:177] computation placer already registered. Please check linkage and avoid linking the same target more than once.\n",
      "W0000 00:00:1747107387.736493    3717 computation_placer.cc:177] computation placer already registered. Please check linkage and avoid linking the same target more than once.\n",
      "2025-05-13 00:36:27.779104: I tensorflow/core/platform/cpu_feature_guard.cc:210] This TensorFlow binary is optimized to use available CPU instructions in performance-critical operations.\n",
      "To enable the following instructions: AVX2 FMA, in other operations, rebuild TensorFlow with the appropriate compiler flags.\n"
     ]
    },
    {
     "name": "stdout",
     "output_type": "stream",
     "text": [
      "1 GPUs\n"
     ]
    },
    {
     "name": "stderr",
     "output_type": "stream",
     "text": [
      "I0000 00:00:1747107393.433962    3717 gpu_device.cc:2019] Created device /job:localhost/replica:0/task:0/device:GPU:0 with 5632 MB memory:  -> device: 0, name: NVIDIA GeForce RTX 3060, pci bus id: 0000:01:00.0, compute capability: 8.6\n"
     ]
    }
   ],
   "source": [
    "import numpy as np\n",
    "from matplotlib import pyplot as plt\n",
    "%matplotlib inline\n",
    "\n",
    "import tensorflow as tf\n",
    "from tf_keras_vis.utils import num_of_gpus\n",
    "\n",
    "_, gpus = num_of_gpus()\n",
    "print('{} GPUs'.format(gpus))"
   ]
  },
  {
   "cell_type": "code",
   "execution_count": null,
   "id": "d59d15ce-0e60-45e7-be1b-ac1046859faa",
   "metadata": {},
   "outputs": [],
   "source": []
  }
 ],
 "metadata": {
  "kernelspec": {
   "display_name": "Python 3 (ipykernel)",
   "language": "python",
   "name": "python3"
  },
  "language_info": {
   "codemirror_mode": {
    "name": "ipython",
    "version": 3
   },
   "file_extension": ".py",
   "mimetype": "text/x-python",
   "name": "python",
   "nbconvert_exporter": "python",
   "pygments_lexer": "ipython3",
   "version": "3.12.3"
  }
 },
 "nbformat": 4,
 "nbformat_minor": 5
}
