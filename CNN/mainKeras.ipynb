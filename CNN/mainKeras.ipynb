{
 "cells": [
  {
   "cell_type": "markdown",
   "id": "7e20f9a5",
   "metadata": {},
   "source": [
    "# **Introdução ao Keras usando um backend do TensorFlow 2.0**\n",
    "### **Treinamento de uma CNN simples no conjunto de dados MNIST - dígitos manuscritos**\n",
    "\n",
    "Nesta lição, usamos o **Keras com um backend do TensorFlow 2.0** para criar um **modelo simples de rede neural convolucional** no PyTorch e treiná-lo para **reconhecer dígitos manuscritos no conjunto de dados MNIST**.\n",
    "1. Carregando nosso conjunto de dados MNIST\n",
    "2. Inspecionar nosso conjunto de dados \n",
    "3. Visualização do nosso conjunto de dados de imagens\n",
    "5. Pré-processamento do nosso conjunto de dados\n",
    "6. Criando nosso modelo\n",
    "7. Treinamento do modelo\n",
    "8. Plotagem dos registros de treinamento\n",
    "9. Salvando e carregando nosso modelo\n",
    "10. Testar nosso modelo em dados de teste"
   ]
  },
  {
   "cell_type": "markdown",
   "id": "36122f50",
   "metadata": {},
   "source": [
    "## Para utilizar o TensorFlow 2.11 no Windows !!\n",
    "\n",
    "- Instale o WSL2\n",
    "- Instale o conda/anaconda/miniconda\n",
    "- crie um env\n",
    "- Instale o CUDA toolkit para WSL\n",
    "- instale seguindo as instruções link https://www.tensorflow.org/install/pip#windows-wsl2\n",
    "- no env, instale o Jupyter (pip3 install jupyter)\n",
    "- No VSCODE, abra um Terminal WSL\n",
    "- Ative o env criado\n",
    "- Rode o comando: jupyter-notebook"
   ]
  },
  {
   "cell_type": "markdown",
   "id": "b0b9cde5",
   "metadata": {},
   "source": [
    "## **1. Carregando nossos dados**\n",
    "\n",
    "Existem conjuntos de dados integrados do ```tensorflow.keras.datasets`` para carregar nossos dados. Usamos a função ```mnist.load_data()```.\n",
    "\n",
    "Retorna: **2 tuplas**\n",
    "- x_train, x_test: matriz uint8 de dados de imagem RGB com formato (num_samples, 3, 32, 32) ou (num_samples, 32, 32, 3) com base na configuração de backend image_data_format de channels_first ou channels_last, respectivamente.\n",
    "- y_train, y_test: matriz uint8 de rótulos de categoria (inteiros no intervalo 0-9) com formato (num_samples, 1).\n",
    "\n",
    "- Mais informações sobre os bancos de dados disponíveis em https://keras.io/datasets/\n"
   ]
  },
  {
   "cell_type": "code",
   "execution_count": 1,
   "id": "9f75a03e",
   "metadata": {},
   "outputs": [
    {
     "name": "stderr",
     "output_type": "stream",
     "text": [
      "2025-04-21 02:16:16.163424: E external/local_xla/xla/stream_executor/cuda/cuda_fft.cc:467] Unable to register cuFFT factory: Attempting to register factory for plugin cuFFT when one has already been registered\n",
      "WARNING: All log messages before absl::InitializeLog() is called are written to STDERR\n",
      "E0000 00:00:1745212576.351194    2552 cuda_dnn.cc:8579] Unable to register cuDNN factory: Attempting to register factory for plugin cuDNN when one has already been registered\n",
      "E0000 00:00:1745212576.421002    2552 cuda_blas.cc:1407] Unable to register cuBLAS factory: Attempting to register factory for plugin cuBLAS when one has already been registered\n",
      "W0000 00:00:1745212576.815379    2552 computation_placer.cc:177] computation placer already registered. Please check linkage and avoid linking the same target more than once.\n",
      "W0000 00:00:1745212576.815446    2552 computation_placer.cc:177] computation placer already registered. Please check linkage and avoid linking the same target more than once.\n",
      "W0000 00:00:1745212576.815447    2552 computation_placer.cc:177] computation placer already registered. Please check linkage and avoid linking the same target more than once.\n",
      "W0000 00:00:1745212576.815449    2552 computation_placer.cc:177] computation placer already registered. Please check linkage and avoid linking the same target more than once.\n",
      "2025-04-21 02:16:16.864941: I tensorflow/core/platform/cpu_feature_guard.cc:210] This TensorFlow binary is optimized to use available CPU instructions in performance-critical operations.\n",
      "To enable the following instructions: AVX2 FMA, in other operations, rebuild TensorFlow with the appropriate compiler flags.\n"
     ]
    }
   ],
   "source": [
    "from tensorflow.keras.datasets import mnist"
   ]
  },
  {
   "cell_type": "code",
   "execution_count": 2,
   "id": "52ca2287",
   "metadata": {},
   "outputs": [],
   "source": [
    "(x_train, y_train), (x_test, y_test)  = mnist.load_data()"
   ]
  },
  {
   "cell_type": "code",
   "execution_count": 3,
   "id": "dcad587f-2d28-4193-813a-26c2a2ac060e",
   "metadata": {},
   "outputs": [
    {
     "name": "stdout",
     "output_type": "stream",
     "text": [
      "[name: \"/device:CPU:0\"\n",
      "device_type: \"CPU\"\n",
      "memory_limit: 268435456\n",
      "locality {\n",
      "}\n",
      "incarnation: 15712621247114662698\n",
      "xla_global_id: -1\n",
      ", name: \"/device:GPU:0\"\n",
      "device_type: \"GPU\"\n",
      "memory_limit: 5905580032\n",
      "locality {\n",
      "  bus_id: 1\n",
      "  links {\n",
      "  }\n",
      "}\n",
      "incarnation: 13990974587663680669\n",
      "physical_device_desc: \"device: 0, name: NVIDIA GeForce RTX 3060, pci bus id: 0000:01:00.0, compute capability: 8.6\"\n",
      "xla_global_id: 416903419\n",
      "]\n"
     ]
    },
    {
     "name": "stderr",
     "output_type": "stream",
     "text": [
      "I0000 00:00:1745212585.088118    2552 gpu_device.cc:2019] Created device /device:GPU:0 with 5632 MB memory:  -> device: 0, name: NVIDIA GeForce RTX 3060, pci bus id: 0000:01:00.0, compute capability: 8.6\n"
     ]
    }
   ],
   "source": [
    "#Chegando se tem acesso a GPU\n",
    "from tensorflow.python.client import device_lib\n",
    "\n",
    "print(device_lib.list_local_devices())"
   ]
  },
  {
   "cell_type": "code",
   "execution_count": 4,
   "id": "5549e9b9-dd54-4de1-b00b-3d42220c8403",
   "metadata": {},
   "outputs": [
    {
     "name": "stdout",
     "output_type": "stream",
     "text": [
      "Dimensões em x_train:  (60000, 28, 28)\n",
      "Número de amostras em nossos dados de treinamento: 60000\n",
      "Número de rótulos em nossos dados de treinamento: 60000\n",
      "Número de amostras em nossos dados de teste: 10000\n",
      "Número de rótulos em nossos dados de teste: 10000\n",
      "\n",
      "\n",
      "Dimensões de um dado em x_train:(28, 28)\n",
      "Labels em x_train:(60000,)\n",
      "\n",
      "\n",
      "Dimensões de um dado em x_test:(28, 28)\n",
      "Labels em y_test:(10000,)\n"
     ]
    }
   ],
   "source": [
    "# Mostrando o número de amostras em x_train, x_test, y_train, y_test\n",
    "print(\"Dimensões em x_train: \", str(x_train.shape))\n",
    "\n",
    "# Número de amostras em cada parte\n",
    "print (\"Número de amostras em nossos dados de treinamento: \" + str(len(x_train)))\n",
    "print (\"Número de rótulos em nossos dados de treinamento: \" + str(len(y_train)))\n",
    "print (\"Número de amostras em nossos dados de teste: \" + str(len(x_test)))\n",
    "print (\"Número de rótulos em nossos dados de teste: \" + str(len(y_test)))\n",
    "\n",
    "# Print the image dimensions and no. of labels in our Training and Test Data\n",
    "print(\"\\n\")\n",
    "print (\"Dimensões de um dado em x_train:\" + str(x_train[0].shape))\n",
    "print (\"Labels em x_train:\" + str(y_train.shape))\n",
    "print(\"\\n\")\n",
    "print (\"Dimensões de um dado em x_test:\" + str(x_test[0].shape))\n",
    "print (\"Labels em y_test:\" + str(y_test.shape))"
   ]
  },
  {
   "cell_type": "markdown",
   "id": "aba6411b-1c0c-449e-92ba-cec90478b2d2",
   "metadata": {},
   "source": [
    "## **3. Visualizando nosso conjunto de dados de imagens**\n",
    "\n",
    "Vamos dar uma olhada em algumas das imagens desse conjunto de dados\n",
    "- Usando o OpenCV\n",
    "- Usando o Matplotlib"
   ]
  },
  {
   "cell_type": "code",
   "execution_count": 5,
   "id": "9a82f118-6232-4bb1-a099-cf400267ae6d",
   "metadata": {},
   "outputs": [],
   "source": [
    "import cv2 \n",
    "import numpy as np\n",
    "from matplotlib import pyplot as plt\n",
    "\n",
    "def imshow(title, image = None, size = 6):\n",
    "    if image.any():\n",
    "      w, h = image.shape[0], image.shape[1]\n",
    "      aspect_ratio = w/h\n",
    "      plt.figure(figsize=(size * aspect_ratio,size))\n",
    "      plt.imshow(cv2.cvtColor(image, cv2.COLOR_BGR2RGB))\n",
    "      plt.title(title)\n",
    "      plt.show()\n",
    "    else:\n",
    "      print(\"Imagem não encontrada\")"
   ]
  },
  {
   "cell_type": "code",
   "execution_count": 6,
   "id": "a606f755-b36a-4393-a08f-12be1139281b",
   "metadata": {},
   "outputs": [
    {
     "data": {
      "image/png": "[encoded data removed]",
      "text/plain": [
       "<Figure size 200x200 with 1 Axes>"
      ]
     },
     "metadata": {},
     "output_type": "display_data"
    },
    {
     "data": {
      "image/png": "[encoded data removed]",
      "text/plain": [
       "<Figure size 200x200 with 1 Axes>"
      ]
     },
     "metadata": {},
     "output_type": "display_data"
    },
    {
     "data": {
      "image/png": "[encoded data removed]",
      "text/plain": [
       "<Figure size 200x200 with 1 Axes>"
      ]
     },
     "metadata": {},
     "output_type": "display_data"
    },
    {
     "data": {
      "image/png": "[encoded data removed]",
      "text/plain": [
       "<Figure size 200x200 with 1 Axes>"
      ]
     },
     "metadata": {},
     "output_type": "display_data"
    },
    {
     "data": {
      "image/png": "[encoded data removed]",
      "text/plain": [
       "<Figure size 200x200 with 1 Axes>"
      ]
     },
     "metadata": {},
     "output_type": "display_data"
    },
    {
     "data": {
      "image/png": "[encoded data removed]",
      "text/plain": [
       "<Figure size 200x200 with 1 Axes>"
      ]
     },
     "metadata": {},
     "output_type": "display_data"
    }
   ],
   "source": [
    "for i in range(0,6): #mostrando 6 random images\n",
    "    random_num = np.random.randint(0, len(x_train))\n",
    "    img = x_train[random_num]\n",
    "    imshow(\"Sample\", img, size = 2)"
   ]
  },
  {
   "cell_type": "markdown",
   "id": "76d1252b-9162-473d-9e50-f2b459fc2f6a",
   "metadata": {},
   "source": [
    "### Vamos fazer a mesma coisa, mas usando matplotlib para plotar 6 imagens**"
   ]
  },
  {
   "cell_type": "code",
   "execution_count": 7,
   "id": "40e5257d-032a-43f1-b367-3a1f5b994f0c",
   "metadata": {},
   "outputs": [
    {
     "data": {
      "text/plain": [
       "<Figure size 640x480 with 0 Axes>"
      ]
     },
     "metadata": {},
     "output_type": "display_data"
    },
    {
     "data": {
      "image/png": "[encoded data removed]",
      "text/plain": [
       "<Figure size 1600x1000 with 50 Axes>"
      ]
     },
     "metadata": {},
     "output_type": "display_data"
    }
   ],
   "source": [
    "import matplotlib.pyplot as plt\n",
    "\n",
    "\n",
    "figure = plt.figure()\n",
    "plt.figure(figsize=(16,10))\n",
    "\n",
    "num_of_images = 50 \n",
    "\n",
    "\n",
    "for index in range(1, num_of_images + 1):\n",
    "    #plotando 5 linhas com 10 imagens. Estamos também mostrando como título para cada uma, o rótulo verdadeiro\n",
    "    plt.subplot(5, 10, index).set_title(f'{y_train[index]}') \n",
    "    plt.axis('off')\n",
    "    plt.imshow(x_train[index], cmap='gray_r')"
   ]
  },
  {
   "cell_type": "markdown",
   "id": "8200f98a-0fca-4923-96a3-f8278c10522d",
   "metadata": {},
   "source": [
    "## **4. Pré-processamento do nosso conjunto de dados** \n",
    "\n",
    "Antes de passar nossos dados para a CNN para treinamento, precisamos prepará-los primeiro. Isso inclui:\n",
    "1. Remodelar nossos dados adicionando uma 4ª dimensão\n",
    "2. Alterar o tipo de dados de uint8 para float32\n",
    "3. Normalizar nossos dados para valores entre 0 e 1\n",
    "4. Aplicar o One Hot Enconding"
   ]
  },
  {
   "cell_type": "code",
   "execution_count": 8,
   "id": "51274bfd-a139-4975-97f8-0cd7d40c4811",
   "metadata": {},
   "outputs": [
    {
     "name": "stdout",
     "output_type": "stream",
     "text": [
      "x_train shape: (60000, 28, 28, 1)\n",
      "60000 train samples\n",
      "10000 test samples\n"
     ]
    }
   ],
   "source": [
    "\n",
    "img_rows = x_train[0].shape[0] #Pegando a dimensão 28\n",
    "img_cols = x_train[0].shape[1] #Pegando a dimensão 28\n",
    "\n",
    "# Obtendo nossos dados na “forma” correta necessária para o Keras\n",
    "# Precisamos adicionar uma quarta dimensão aos nossos dados, alterando assim nossa forma de imagem original de (60000,28,28) para (60000,28,28,1)\n",
    "\n",
    "x_train = x_train.reshape(x_train.shape[0], img_rows, img_cols, 1)\n",
    "x_test = x_test.reshape(x_test.shape[0], img_rows, img_cols, 1)\n",
    "\n",
    "input_shape = (img_rows, img_cols, 1) #dimensões de uma unica imagem\n",
    "\n",
    "\n",
    "x_train = x_train.astype('float32') #uint8 originally\n",
    "x_test = x_test.astype('float32')\n",
    "\n",
    "# Normalizar os valores de cada pixel para o intervalo de 0 a 1\n",
    "x_train /= 255.0\n",
    "x_test /= 255.0\n",
    "\n",
    "print('x_train shape:', x_train.shape)\n",
    "print(x_train.shape[0], 'train samples')\n",
    "print(x_test.shape[0], 'test samples')"
   ]
  },
  {
   "cell_type": "code",
   "execution_count": 9,
   "id": "9b4eb894-8808-4d4e-b08a-c443ecb10fe5",
   "metadata": {},
   "outputs": [
    {
     "name": "stdout",
     "output_type": "stream",
     "text": [
      "28 28\n"
     ]
    }
   ],
   "source": [
    "print(img_rows, img_cols)"
   ]
  },
  {
   "cell_type": "markdown",
   "id": "7a04f57d-1d75-4dbd-93c6-f17a5daaad1f",
   "metadata": {},
   "source": [
    "#### **One Hot Encode nos Labels (Y)**\n",
    "\n",
    "Podemos implementar facilmente essa transformação usando ```to_categorical`` de ``` tensorflow.keras.utils``"
   ]
  },
  {
   "cell_type": "code",
   "execution_count": 10,
   "id": "aed96dc4-d9c5-4a3e-84fe-c68f1d5cd05c",
   "metadata": {},
   "outputs": [
    {
     "name": "stdout",
     "output_type": "stream",
     "text": [
      "Número de classes: 10\n"
     ]
    }
   ],
   "source": [
    "from tensorflow.keras.utils import to_categorical\n",
    "\n",
    "y_train = to_categorical(y_train)\n",
    "y_test = to_categorical(y_test)\n",
    "\n",
    "# Contando o numero de colunas após aplicação do One Hot Encoder\n",
    "print (\"Número de classes: \" + str(y_test.shape[1]))\n",
    "\n",
    "num_classes = y_test.shape[1]\n",
    "num_pixels = x_train.shape[1] * x_train.shape[2]"
   ]
  },
  {
   "cell_type": "markdown",
   "id": "794061fa-9c70-4785-8d1a-24ac20a06582",
   "metadata": {},
   "source": [
    "#### **Exemplo do One Hot Encoding**\n",
    "![Image of one hot ncoding](https://raw.githubusercontent.com/rajeevratan84/DeepLearningCV/master/hotoneencode.JPG)"
   ]
  },
  {
   "cell_type": "code",
   "execution_count": 11,
   "id": "dffad66d-b1a8-433c-b32c-8c9c4e617ab3",
   "metadata": {},
   "outputs": [
    {
     "name": "stdout",
     "output_type": "stream",
     "text": [
      "Um dado [0. 0. 0. 0. 0. 1. 0. 0. 0. 0.]\n"
     ]
    }
   ],
   "source": [
    "# Look at our raw data\n",
    "print(f'Um dado {y_train[0]}')"
   ]
  },
  {
   "cell_type": "markdown",
   "id": "08ac49ab-5720-4191-8f67-3677876f2b40",
   "metadata": {},
   "source": [
    "## **5. Criando nosso modelo**\n",
    "![](https://github.com/rajeevratan84/ModernComputerVision/raw/main/CleanShot%202020-11-29%20at%204.21.04%402x.png)\n",
    "- Estamos construindo uma CNN simples, mas eficaz, que usa 32 filtros de tamanho 3x3\n",
    "- Adicionamos uma segunda camada CONV de 64 filtros do mesmo tamanho 3x3\n",
    "- Em seguida, reduzimos a amostragem de nossos dados para 2x2\n",
    "- Em seguida, achatamos nossa saída Max Pool que está conectada a uma camada Dense/FC que tem um tamanho de saída de 128\n",
    "- Em seguida, conectamos nossas 128 saídas a outra camada FC/Dense que gera saídas para as 10 unidades categóricas\n"
   ]
  },
  {
   "cell_type": "code",
   "execution_count": 12,
   "id": "3ceac885-8e8d-459f-8cc9-547bf2c65e72",
   "metadata": {},
   "outputs": [],
   "source": [
    "from tensorflow.keras.models import Sequential\n",
    "from tensorflow.keras.layers import Dense, Dropout, Flatten\n",
    "from tensorflow.keras.layers import Conv2D, MaxPooling2D\n",
    "from tensorflow.keras import backend as K\n",
    "from tensorflow.keras.optimizers import SGD "
   ]
  },
  {
   "cell_type": "code",
   "execution_count": 16,
   "id": "d2845cd8-13b9-49af-98a1-44b4cfa243e7",
   "metadata": {},
   "outputs": [
    {
     "data": {
      "text/html": [
       "<pre style=\"white-space:pre;overflow-x:auto;line-height:normal;font-family:Menlo,'DejaVu Sans Mono',consolas,'Courier New',monospace\"><span style=\"font-weight: bold\">Model: \"sequential_3\"</span>\n",
       "</pre>\n"
      ],
      "text/plain": [
       "\u001b[1mModel: \"sequential_3\"\u001b[0m\n"
      ]
     },
     "metadata": {},
     "output_type": "display_data"
    },
    {
     "data": {
      "text/html": [
       "<pre style=\"white-space:pre;overflow-x:auto;line-height:normal;font-family:Menlo,'DejaVu Sans Mono',consolas,'Courier New',monospace\">┏━━━━━━━━━━━━━━━━━━━━━━━━━━━━━━━━━┳━━━━━━━━━━━━━━━━━━━━━━━━┳━━━━━━━━━━━━━━━┓\n",
       "┃<span style=\"font-weight: bold\"> Layer (type)                    </span>┃<span style=\"font-weight: bold\"> Output Shape           </span>┃<span style=\"font-weight: bold\">       Param # </span>┃\n",
       "┡━━━━━━━━━━━━━━━━━━━━━━━━━━━━━━━━━╇━━━━━━━━━━━━━━━━━━━━━━━━╇━━━━━━━━━━━━━━━┩\n",
       "│ conv2d_6 (<span style=\"color: #0087ff; text-decoration-color: #0087ff\">Conv2D</span>)               │ (<span style=\"color: #00d7ff; text-decoration-color: #00d7ff\">None</span>, <span style=\"color: #00af00; text-decoration-color: #00af00\">26</span>, <span style=\"color: #00af00; text-decoration-color: #00af00\">26</span>, <span style=\"color: #00af00; text-decoration-color: #00af00\">32</span>)     │           <span style=\"color: #00af00; text-decoration-color: #00af00\">320</span> │\n",
       "├─────────────────────────────────┼────────────────────────┼───────────────┤\n",
       "│ conv2d_7 (<span style=\"color: #0087ff; text-decoration-color: #0087ff\">Conv2D</span>)               │ (<span style=\"color: #00d7ff; text-decoration-color: #00d7ff\">None</span>, <span style=\"color: #00af00; text-decoration-color: #00af00\">24</span>, <span style=\"color: #00af00; text-decoration-color: #00af00\">24</span>, <span style=\"color: #00af00; text-decoration-color: #00af00\">64</span>)     │        <span style=\"color: #00af00; text-decoration-color: #00af00\">18,496</span> │\n",
       "├─────────────────────────────────┼────────────────────────┼───────────────┤\n",
       "│ max_pooling2d_3 (<span style=\"color: #0087ff; text-decoration-color: #0087ff\">MaxPooling2D</span>)  │ (<span style=\"color: #00d7ff; text-decoration-color: #00d7ff\">None</span>, <span style=\"color: #00af00; text-decoration-color: #00af00\">12</span>, <span style=\"color: #00af00; text-decoration-color: #00af00\">12</span>, <span style=\"color: #00af00; text-decoration-color: #00af00\">64</span>)     │             <span style=\"color: #00af00; text-decoration-color: #00af00\">0</span> │\n",
       "├─────────────────────────────────┼────────────────────────┼───────────────┤\n",
       "│ flatten_3 (<span style=\"color: #0087ff; text-decoration-color: #0087ff\">Flatten</span>)             │ (<span style=\"color: #00d7ff; text-decoration-color: #00d7ff\">None</span>, <span style=\"color: #00af00; text-decoration-color: #00af00\">9216</span>)           │             <span style=\"color: #00af00; text-decoration-color: #00af00\">0</span> │\n",
       "├─────────────────────────────────┼────────────────────────┼───────────────┤\n",
       "│ dense_6 (<span style=\"color: #0087ff; text-decoration-color: #0087ff\">Dense</span>)                 │ (<span style=\"color: #00d7ff; text-decoration-color: #00d7ff\">None</span>, <span style=\"color: #00af00; text-decoration-color: #00af00\">128</span>)            │     <span style=\"color: #00af00; text-decoration-color: #00af00\">1,179,776</span> │\n",
       "├─────────────────────────────────┼────────────────────────┼───────────────┤\n",
       "│ dense_7 (<span style=\"color: #0087ff; text-decoration-color: #0087ff\">Dense</span>)                 │ (<span style=\"color: #00d7ff; text-decoration-color: #00d7ff\">None</span>, <span style=\"color: #00af00; text-decoration-color: #00af00\">10</span>)             │         <span style=\"color: #00af00; text-decoration-color: #00af00\">1,290</span> │\n",
       "└─────────────────────────────────┴────────────────────────┴───────────────┘\n",
       "</pre>\n"
      ],
      "text/plain": [
       "┏━━━━━━━━━━━━━━━━━━━━━━━━━━━━━━━━━┳━━━━━━━━━━━━━━━━━━━━━━━━┳━━━━━━━━━━━━━━━┓\n",
       "┃\u001b[1m \u001b[0m\u001b[1mLayer (type)                   \u001b[0m\u001b[1m \u001b[0m┃\u001b[1m \u001b[0m\u001b[1mOutput Shape          \u001b[0m\u001b[1m \u001b[0m┃\u001b[1m \u001b[0m\u001b[1m      Param #\u001b[0m\u001b[1m \u001b[0m┃\n",
       "┡━━━━━━━━━━━━━━━━━━━━━━━━━━━━━━━━━╇━━━━━━━━━━━━━━━━━━━━━━━━╇━━━━━━━━━━━━━━━┩\n",
       "│ conv2d_6 (\u001b[38;5;33mConv2D\u001b[0m)               │ (\u001b[38;5;45mNone\u001b[0m, \u001b[38;5;34m26\u001b[0m, \u001b[38;5;34m26\u001b[0m, \u001b[38;5;34m32\u001b[0m)     │           \u001b[38;5;34m320\u001b[0m │\n",
       "├─────────────────────────────────┼────────────────────────┼───────────────┤\n",
       "│ conv2d_7 (\u001b[38;5;33mConv2D\u001b[0m)               │ (\u001b[38;5;45mNone\u001b[0m, \u001b[38;5;34m24\u001b[0m, \u001b[38;5;34m24\u001b[0m, \u001b[38;5;34m64\u001b[0m)     │        \u001b[38;5;34m18,496\u001b[0m │\n",
       "├─────────────────────────────────┼────────────────────────┼───────────────┤\n",
       "│ max_pooling2d_3 (\u001b[38;5;33mMaxPooling2D\u001b[0m)  │ (\u001b[38;5;45mNone\u001b[0m, \u001b[38;5;34m12\u001b[0m, \u001b[38;5;34m12\u001b[0m, \u001b[38;5;34m64\u001b[0m)     │             \u001b[38;5;34m0\u001b[0m │\n",
       "├─────────────────────────────────┼────────────────────────┼───────────────┤\n",
       "│ flatten_3 (\u001b[38;5;33mFlatten\u001b[0m)             │ (\u001b[38;5;45mNone\u001b[0m, \u001b[38;5;34m9216\u001b[0m)           │             \u001b[38;5;34m0\u001b[0m │\n",
       "├─────────────────────────────────┼────────────────────────┼───────────────┤\n",
       "│ dense_6 (\u001b[38;5;33mDense\u001b[0m)                 │ (\u001b[38;5;45mNone\u001b[0m, \u001b[38;5;34m128\u001b[0m)            │     \u001b[38;5;34m1,179,776\u001b[0m │\n",
       "├─────────────────────────────────┼────────────────────────┼───────────────┤\n",
       "│ dense_7 (\u001b[38;5;33mDense\u001b[0m)                 │ (\u001b[38;5;45mNone\u001b[0m, \u001b[38;5;34m10\u001b[0m)             │         \u001b[38;5;34m1,290\u001b[0m │\n",
       "└─────────────────────────────────┴────────────────────────┴───────────────┘\n"
      ]
     },
     "metadata": {},
     "output_type": "display_data"
    },
    {
     "data": {
      "text/html": [
       "<pre style=\"white-space:pre;overflow-x:auto;line-height:normal;font-family:Menlo,'DejaVu Sans Mono',consolas,'Courier New',monospace\"><span style=\"font-weight: bold\"> Total params: </span><span style=\"color: #00af00; text-decoration-color: #00af00\">1,199,882</span> (4.58 MB)\n",
       "</pre>\n"
      ],
      "text/plain": [
       "\u001b[1m Total params: \u001b[0m\u001b[38;5;34m1,199,882\u001b[0m (4.58 MB)\n"
      ]
     },
     "metadata": {},
     "output_type": "display_data"
    },
    {
     "data": {
      "text/html": [
       "<pre style=\"white-space:pre;overflow-x:auto;line-height:normal;font-family:Menlo,'DejaVu Sans Mono',consolas,'Courier New',monospace\"><span style=\"font-weight: bold\"> Trainable params: </span><span style=\"color: #00af00; text-decoration-color: #00af00\">1,199,882</span> (4.58 MB)\n",
       "</pre>\n"
      ],
      "text/plain": [
       "\u001b[1m Trainable params: \u001b[0m\u001b[38;5;34m1,199,882\u001b[0m (4.58 MB)\n"
      ]
     },
     "metadata": {},
     "output_type": "display_data"
    },
    {
     "data": {
      "text/html": [
       "<pre style=\"white-space:pre;overflow-x:auto;line-height:normal;font-family:Menlo,'DejaVu Sans Mono',consolas,'Courier New',monospace\"><span style=\"font-weight: bold\"> Non-trainable params: </span><span style=\"color: #00af00; text-decoration-color: #00af00\">0</span> (0.00 B)\n",
       "</pre>\n"
      ],
      "text/plain": [
       "\u001b[1m Non-trainable params: \u001b[0m\u001b[38;5;34m0\u001b[0m (0.00 B)\n"
      ]
     },
     "metadata": {},
     "output_type": "display_data"
    },
    {
     "name": "stdout",
     "output_type": "stream",
     "text": [
      "None\n"
     ]
    }
   ],
   "source": [
    "model = Sequential()\n",
    "\n",
    "# Nossa primeira camada de convolução, tamanho do filtro 32, o que reduz o tamanho da camada para 26 x 26 x 32\n",
    "# Usamos a ativação ReLU e especificamos nosso input_shape, que é 28 x 28 x 1\n",
    "model.add(Conv2D(32, kernel_size=(3, 3), activation='relu', input_shape=input_shape))\n",
    "\n",
    "# Nossa segunda camada de convolução, filtro de tamanho 64, que reduz o tamanho da camada para 24 x 24 x 64\n",
    "model.add(Conv2D(64, (3, 3), activation='relu'))\n",
    "\n",
    "# Usamos o MaxPooling com um tamanho de kernel de 2 x 2, o que reduz nosso tamanho para 12 x 12 x 64\n",
    "model.add(MaxPooling2D(pool_size=(2, 2)))\n",
    "\n",
    "# Em seguida, fazemos o flatten do nosso objeto tensor antes de inseri-lo em nossa camada densa\n",
    "# Uma operação de achatamento em um tensor remodela o tensor para ter a forma que é \n",
    "# igual ao número de elementos contidos no tensor\n",
    "# Em nossa CNN, ele vai de (12 x 12 x 64) para (9216 x 1)\n",
    "model.add(Flatten())\n",
    "\n",
    "model.add(Dense(128, activation='relu'))\n",
    "\n",
    "model.add(Dense(num_classes, activation='softmax'))\n",
    "\n",
    "# Compilamos nosso modelo, o que cria um objeto que armazena o modelo que acabamos de criar\n",
    "# Definimos nosso otimizador para usar o Stochastic Gradient Descent (taxa de aprendizado de 0,001)\n",
    "# Definimos nossa função de perda como categorical_crossentropy, pois ela é adequada para problemas multiclasse\n",
    "# Por fim, as métricas (o que avaliamos em nosso desempenho) é a precisão.\n",
    "\n",
    "model.compile(loss = 'categorical_crossentropy',\n",
    "              optimizer = SGD(0.001),\n",
    "              metrics = ['accuracy'])\n",
    "\n",
    "# Podemos usar a função de resumo para exibir as camadas e os parâmetros do nosso modelo\n",
    "print(model.summary())\n",
    "\n",
    "#CALCULO DOS PARAMETROS: (ALTURA * LARGURA * PROFUNDIDADE + 1) * NUMERO DE KERNELS DA CAMADA\n",
    "#NOTE QUE O NUMERO 320, É O RESULTADO DA CONTA (3X3X1+1) X 32 = 320\n",
    "#NOTE QUE O NUMERO É 18,496, É O RESULTADO DA CONTA (3X3X32+1) X 64 = 18,496\n",
    "# NA CAMADA DENSA - (9216 + 1) × 128 = 1,179,776\n",
    "\n"
   ]
  },
  {
   "cell_type": "code",
   "execution_count": 17,
   "id": "bb4f06f5-2093-465c-aa3b-26ec835b8c62",
   "metadata": {},
   "outputs": [
    {
     "data": {
      "text/plain": [
       "(10000, 10)"
      ]
     },
     "execution_count": 17,
     "metadata": {},
     "output_type": "execute_result"
    }
   ],
   "source": [
    "y_test.shape"
   ]
  },
  {
   "cell_type": "markdown",
   "id": "3fd81d17-0b0a-4dfd-a659-ca94e6c19fec",
   "metadata": {},
   "source": [
    "## **6. Treinamento do nosso modelo**\n",
    "- Nossos dados pré-processados são usados como entrada\n",
    "- Definimos o tamanho do lote como 128 (ou qualquer número entre 8 e 256 é bom)\n",
    "- Definimos o número de épocas como 25; isso é apenas para fins deste tutorial, mas um valor de pelo menos 10 deve ser usado\n",
    "- Armazenamos os resultados do treinamento do nosso modelo para plotagem no futuro\n",
    "- Em seguida, usamos a função molel.evaluate do Keras para gerar o desempenho final do modelo. Aqui estamos examinando a perda de teste e a precisão do teste"
   ]
  },
  {
   "cell_type": "code",
   "execution_count": 19,
   "id": "0646ff91-1e0e-46df-bcaa-4026e78c61a4",
   "metadata": {},
   "outputs": [
    {
     "name": "stdout",
     "output_type": "stream",
     "text": [
      "Epoch 1/25\n"
     ]
    },
    {
     "name": "stderr",
     "output_type": "stream",
     "text": [
      "WARNING: All log messages before absl::InitializeLog() is called are written to STDERR\n",
      "I0000 00:00:1745217158.374978    3811 service.cc:152] XLA service 0x7fdf48003330 initialized for platform CUDA (this does not guarantee that XLA will be used). Devices:\n",
      "I0000 00:00:1745217158.375088    3811 service.cc:160]   StreamExecutor device (0): NVIDIA GeForce RTX 3060, Compute Capability 8.6\n",
      "2025-04-21 03:32:38.470174: I tensorflow/compiler/mlir/tensorflow/utils/dump_mlir_util.cc:269] disabling MLIR crash reproducer, set env var `MLIR_CRASH_REPRODUCER_DIRECTORY` to enable.\n",
      "I0000 00:00:1745217158.612314    3811 cuda_dnn.cc:529] Loaded cuDNN version 90300\n",
      "2025-04-21 03:32:40.057274: I external/local_xla/xla/stream_executor/cuda/subprocess_compilation.cc:346] ptxas warning : Registers are spilled to local memory in function 'gemm_fusion_dot_140', 4 bytes spill stores, 4 bytes spill loads\n",
      "\n",
      "2025-04-21 03:32:40.997659: I external/local_xla/xla/stream_executor/cuda/subprocess_compilation.cc:346] ptxas warning : Registers are spilled to local memory in function 'gemm_fusion_dot_318', 396 bytes spill stores, 396 bytes spill loads\n",
      "\n",
      "2025-04-21 03:32:41.164122: I external/local_xla/xla/stream_executor/cuda/subprocess_compilation.cc:346] ptxas warning : Registers are spilled to local memory in function 'gemm_fusion_dot_318', 616 bytes spill stores, 520 bytes spill loads\n",
      "\n",
      "2025-04-21 03:32:41.413649: I external/local_xla/xla/stream_executor/cuda/subprocess_compilation.cc:346] ptxas warning : Registers are spilled to local memory in function 'gemm_fusion_dot_318', 716 bytes spill stores, 592 bytes spill loads\n",
      "\n",
      "2025-04-21 03:32:41.413686: I external/local_xla/xla/stream_executor/cuda/subprocess_compilation.cc:346] ptxas warning : Registers are spilled to local memory in function 'gemm_fusion_dot_318', 1384 bytes spill stores, 1384 bytes spill loads\n",
      "\n"
     ]
    },
    {
     "name": "stdout",
     "output_type": "stream",
     "text": [
      "\u001b[1m 33/469\u001b[0m \u001b[32m━\u001b[0m\u001b[37m━━━━━━━━━━━━━━━━━━━\u001b[0m \u001b[1m2s\u001b[0m 5ms/step - accuracy: 0.1170 - loss: 2.2985"
     ]
    },
    {
     "name": "stderr",
     "output_type": "stream",
     "text": [
      "I0000 00:00:1745217163.660738    3811 device_compiler.h:188] Compiled cluster using XLA!  This line is logged at most once for the lifetime of the process.\n"
     ]
    },
    {
     "name": "stdout",
     "output_type": "stream",
     "text": [
      "\u001b[1m465/469\u001b[0m \u001b[32m━━━━━━━━━━━━━━━━━━━\u001b[0m\u001b[37m━\u001b[0m \u001b[1m0s\u001b[0m 5ms/step - accuracy: 0.2082 - loss: 2.2674"
     ]
    },
    {
     "name": "stderr",
     "output_type": "stream",
     "text": [
      "2025-04-21 03:32:47.139701: I external/local_xla/xla/stream_executor/cuda/subprocess_compilation.cc:346] ptxas warning : Registers are spilled to local memory in function 'gemm_fusion_dot_320', 88 bytes spill stores, 88 bytes spill loads\n",
      "\n",
      "2025-04-21 03:32:47.389005: I external/local_xla/xla/stream_executor/cuda/subprocess_compilation.cc:346] ptxas warning : Registers are spilled to local memory in function 'gemm_fusion_dot_318', 784 bytes spill stores, 784 bytes spill loads\n",
      "\n",
      "2025-04-21 03:32:47.682965: I external/local_xla/xla/stream_executor/cuda/subprocess_compilation.cc:346] ptxas warning : Registers are spilled to local memory in function 'gemm_fusion_dot_318', 476 bytes spill stores, 440 bytes spill loads\n",
      "\n",
      "2025-04-21 03:32:47.798498: I external/local_xla/xla/stream_executor/cuda/subprocess_compilation.cc:346] ptxas warning : Registers are spilled to local memory in function 'gemm_fusion_dot_318', 188 bytes spill stores, 188 bytes spill loads\n",
      "\n",
      "2025-04-21 03:32:48.053187: I external/local_xla/xla/stream_executor/cuda/subprocess_compilation.cc:346] ptxas warning : Registers are spilled to local memory in function 'gemm_fusion_dot_318', 124 bytes spill stores, 124 bytes spill loads\n",
      "\n",
      "2025-04-21 03:32:48.105953: I external/local_xla/xla/stream_executor/cuda/subprocess_compilation.cc:346] ptxas warning : Registers are spilled to local memory in function 'gemm_fusion_dot_318', 496 bytes spill stores, 496 bytes spill loads\n",
      "\n",
      "2025-04-21 03:32:48.261483: I external/local_xla/xla/stream_executor/cuda/subprocess_compilation.cc:346] ptxas warning : Registers are spilled to local memory in function 'gemm_fusion_dot_318', 580 bytes spill stores, 580 bytes spill loads\n",
      "\n",
      "2025-04-21 03:32:48.365905: I external/local_xla/xla/stream_executor/cuda/subprocess_compilation.cc:346] ptxas warning : Registers are spilled to local memory in function 'gemm_fusion_dot_318', 716 bytes spill stores, 592 bytes spill loads\n",
      "\n",
      "2025-04-21 03:32:48.388690: I external/local_xla/xla/stream_executor/cuda/subprocess_compilation.cc:346] ptxas warning : Registers are spilled to local memory in function 'gemm_fusion_dot_318', 1720 bytes spill stores, 1688 bytes spill loads\n",
      "\n"
     ]
    },
    {
     "name": "stdout",
     "output_type": "stream",
     "text": [
      "\u001b[1m469/469\u001b[0m \u001b[32m━━━━━━━━━━━━━━━━━━━━\u001b[0m\u001b[37m\u001b[0m \u001b[1m13s\u001b[0m 16ms/step - accuracy: 0.2096 - loss: 2.2669 - val_accuracy: 0.5656 - val_loss: 2.1109\n",
      "Epoch 2/25\n",
      "\u001b[1m469/469\u001b[0m \u001b[32m━━━━━━━━━━━━━━━━━━━━\u001b[0m\u001b[37m\u001b[0m \u001b[1m2s\u001b[0m 5ms/step - accuracy: 0.6262 - loss: 1.9691 - val_accuracy: 0.7919 - val_loss: 1.1614\n",
      "Epoch 3/25\n",
      "\u001b[1m469/469\u001b[0m \u001b[32m━━━━━━━━━━━━━━━━━━━━\u001b[0m\u001b[37m\u001b[0m \u001b[1m2s\u001b[0m 5ms/step - accuracy: 0.8113 - loss: 0.9367 - val_accuracy: 0.8652 - val_loss: 0.5239\n",
      "Epoch 4/25\n",
      "\u001b[1m469/469\u001b[0m \u001b[32m━━━━━━━━━━━━━━━━━━━━\u001b[0m\u001b[37m\u001b[0m \u001b[1m2s\u001b[0m 5ms/step - accuracy: 0.8650 - loss: 0.5056 - val_accuracy: 0.8901 - val_loss: 0.3975\n",
      "Epoch 5/25\n",
      "\u001b[1m469/469\u001b[0m \u001b[32m━━━━━━━━━━━━━━━━━━━━\u001b[0m\u001b[37m\u001b[0m \u001b[1m2s\u001b[0m 5ms/step - accuracy: 0.8883 - loss: 0.4034 - val_accuracy: 0.9047 - val_loss: 0.3478\n",
      "Epoch 6/25\n",
      "\u001b[1m469/469\u001b[0m \u001b[32m━━━━━━━━━━━━━━━━━━━━\u001b[0m\u001b[37m\u001b[0m \u001b[1m2s\u001b[0m 5ms/step - accuracy: 0.8951 - loss: 0.3666 - val_accuracy: 0.9104 - val_loss: 0.3198\n",
      "Epoch 7/25\n",
      "\u001b[1m469/469\u001b[0m \u001b[32m━━━━━━━━━━━━━━━━━━━━\u001b[0m\u001b[37m\u001b[0m \u001b[1m2s\u001b[0m 5ms/step - accuracy: 0.9042 - loss: 0.3337 - val_accuracy: 0.9155 - val_loss: 0.2997\n",
      "Epoch 8/25\n",
      "\u001b[1m469/469\u001b[0m \u001b[32m━━━━━━━━━━━━━━━━━━━━\u001b[0m\u001b[37m\u001b[0m \u001b[1m5s\u001b[0m 12ms/step - accuracy: 0.9070 - loss: 0.3138 - val_accuracy: 0.9187 - val_loss: 0.2887\n",
      "Epoch 9/25\n",
      "\u001b[1m469/469\u001b[0m \u001b[32m━━━━━━━━━━━━━━━━━━━━\u001b[0m\u001b[37m\u001b[0m \u001b[1m2s\u001b[0m 5ms/step - accuracy: 0.9125 - loss: 0.3010 - val_accuracy: 0.9234 - val_loss: 0.2748\n",
      "Epoch 10/25\n",
      "\u001b[1m469/469\u001b[0m \u001b[32m━━━━━━━━━━━━━━━━━━━━\u001b[0m\u001b[37m\u001b[0m \u001b[1m2s\u001b[0m 5ms/step - accuracy: 0.9156 - loss: 0.2898 - val_accuracy: 0.9249 - val_loss: 0.2643\n",
      "Epoch 11/25\n",
      "\u001b[1m469/469\u001b[0m \u001b[32m━━━━━━━━━━━━━━━━━━━━\u001b[0m\u001b[37m\u001b[0m \u001b[1m2s\u001b[0m 5ms/step - accuracy: 0.9193 - loss: 0.2766 - val_accuracy: 0.9263 - val_loss: 0.2562\n",
      "Epoch 12/25\n",
      "\u001b[1m469/469\u001b[0m \u001b[32m━━━━━━━━━━━━━━━━━━━━\u001b[0m\u001b[37m\u001b[0m \u001b[1m2s\u001b[0m 5ms/step - accuracy: 0.9223 - loss: 0.2652 - val_accuracy: 0.9301 - val_loss: 0.2473\n",
      "Epoch 13/25\n",
      "\u001b[1m469/469\u001b[0m \u001b[32m━━━━━━━━━━━━━━━━━━━━\u001b[0m\u001b[37m\u001b[0m \u001b[1m2s\u001b[0m 5ms/step - accuracy: 0.9253 - loss: 0.2583 - val_accuracy: 0.9310 - val_loss: 0.2411\n",
      "Epoch 14/25\n",
      "\u001b[1m469/469\u001b[0m \u001b[32m━━━━━━━━━━━━━━━━━━━━\u001b[0m\u001b[37m\u001b[0m \u001b[1m2s\u001b[0m 5ms/step - accuracy: 0.9256 - loss: 0.2546 - val_accuracy: 0.9335 - val_loss: 0.2339\n",
      "Epoch 15/25\n",
      "\u001b[1m469/469\u001b[0m \u001b[32m━━━━━━━━━━━━━━━━━━━━\u001b[0m\u001b[37m\u001b[0m \u001b[1m2s\u001b[0m 5ms/step - accuracy: 0.9269 - loss: 0.2470 - val_accuracy: 0.9342 - val_loss: 0.2281\n",
      "Epoch 16/25\n",
      "\u001b[1m469/469\u001b[0m \u001b[32m━━━━━━━━━━━━━━━━━━━━\u001b[0m\u001b[37m\u001b[0m \u001b[1m2s\u001b[0m 5ms/step - accuracy: 0.9305 - loss: 0.2365 - val_accuracy: 0.9361 - val_loss: 0.2228\n",
      "Epoch 17/25\n",
      "\u001b[1m469/469\u001b[0m \u001b[32m━━━━━━━━━━━━━━━━━━━━\u001b[0m\u001b[37m\u001b[0m \u001b[1m2s\u001b[0m 5ms/step - accuracy: 0.9321 - loss: 0.2331 - val_accuracy: 0.9380 - val_loss: 0.2163\n",
      "Epoch 18/25\n",
      "\u001b[1m469/469\u001b[0m \u001b[32m━━━━━━━━━━━━━━━━━━━━\u001b[0m\u001b[37m\u001b[0m \u001b[1m3s\u001b[0m 5ms/step - accuracy: 0.9358 - loss: 0.2251 - val_accuracy: 0.9387 - val_loss: 0.2119\n",
      "Epoch 19/25\n",
      "\u001b[1m469/469\u001b[0m \u001b[32m━━━━━━━━━━━━━━━━━━━━\u001b[0m\u001b[37m\u001b[0m \u001b[1m2s\u001b[0m 5ms/step - accuracy: 0.9373 - loss: 0.2175 - val_accuracy: 0.9396 - val_loss: 0.2060\n",
      "Epoch 20/25\n",
      "\u001b[1m469/469\u001b[0m \u001b[32m━━━━━━━━━━━━━━━━━━━━\u001b[0m\u001b[37m\u001b[0m \u001b[1m2s\u001b[0m 5ms/step - accuracy: 0.9384 - loss: 0.2130 - val_accuracy: 0.9425 - val_loss: 0.2004\n",
      "Epoch 21/25\n",
      "\u001b[1m469/469\u001b[0m \u001b[32m━━━━━━━━━━━━━━━━━━━━\u001b[0m\u001b[37m\u001b[0m \u001b[1m5s\u001b[0m 11ms/step - accuracy: 0.9395 - loss: 0.2082 - val_accuracy: 0.9435 - val_loss: 0.1964\n",
      "Epoch 22/25\n",
      "\u001b[1m469/469\u001b[0m \u001b[32m━━━━━━━━━━━━━━━━━━━━\u001b[0m\u001b[37m\u001b[0m \u001b[1m2s\u001b[0m 5ms/step - accuracy: 0.9417 - loss: 0.1996 - val_accuracy: 0.9440 - val_loss: 0.1907\n",
      "Epoch 23/25\n",
      "\u001b[1m469/469\u001b[0m \u001b[32m━━━━━━━━━━━━━━━━━━━━\u001b[0m\u001b[37m\u001b[0m \u001b[1m2s\u001b[0m 5ms/step - accuracy: 0.9429 - loss: 0.1942 - val_accuracy: 0.9449 - val_loss: 0.1865\n",
      "Epoch 24/25\n",
      "\u001b[1m469/469\u001b[0m \u001b[32m━━━━━━━━━━━━━━━━━━━━\u001b[0m\u001b[37m\u001b[0m \u001b[1m2s\u001b[0m 5ms/step - accuracy: 0.9434 - loss: 0.1910 - val_accuracy: 0.9453 - val_loss: 0.1866\n",
      "Epoch 25/25\n",
      "\u001b[1m469/469\u001b[0m \u001b[32m━━━━━━━━━━━━━━━━━━━━\u001b[0m\u001b[37m\u001b[0m \u001b[1m2s\u001b[0m 5ms/step - accuracy: 0.9438 - loss: 0.1907 - val_accuracy: 0.9470 - val_loss: 0.1778\n"
     ]
    },
    {
     "name": "stderr",
     "output_type": "stream",
     "text": [
      "2025-04-21 03:33:55.248867: I external/local_xla/xla/stream_executor/cuda/subprocess_compilation.cc:346] ptxas warning : Registers are spilled to local memory in function 'gemm_fusion_dot_86', 4 bytes spill stores, 4 bytes spill loads\n",
      "\n"
     ]
    },
    {
     "name": "stdout",
     "output_type": "stream",
     "text": [
      "Test loss: 0.1778186857700348\n",
      "Test accuracy: 0.9469000101089478\n"
     ]
    }
   ],
   "source": [
    "batch_size = 128\n",
    "epochs = 25\n",
    "\n",
    "# Armazene nossos resultados aqui para que possamos plotar mais tarde\n",
    "# Em nossa função de ajuste, especificamos nossos conjuntos de dados (x_train e y_train), \n",
    "# o tamanho do lote (normalmente de 16 a 128, dependendo de sua RAM), o número de \n",
    "# épocas (geralmente de 10 a 100) e nossos conjuntos de dados de validação (x_test e y_test)\n",
    "# verbose = 1, define nosso treinamento para gerar métricas de desempenho a cada época\n",
    "\n",
    "history = model.fit(x_train,\n",
    "                    y_train,\n",
    "                    batch_size = batch_size,\n",
    "                    epochs = epochs,\n",
    "                    verbose = 1,\n",
    "                    validation_data = (x_test, y_test))\n",
    "\n",
    "# Obtemos nossa pontuação de precisão usando a função evalute\n",
    "# A pontuação contém dois valores, nossa perda de teste e a precisão\n",
    "score = model.evaluate(x_test, y_test, verbose=0)\n",
    "print('Test loss:', score[0])\n",
    "print('Test accuracy:', score[1])"
   ]
  },
  {
   "cell_type": "markdown",
   "id": "4b6815d8-7e6d-4c74-8cc0-52a9af571bd9",
   "metadata": {},
   "source": [
    "## **7. Plotando nossos gráficos de perda e precisão**"
   ]
  },
  {
   "cell_type": "code",
   "execution_count": 20,
   "id": "fa60745c-f162-4cb1-baa1-969c8e0d6055",
   "metadata": {},
   "outputs": [
    {
     "data": {
      "text/plain": [
       "{'accuracy': [0.34523332118988037,\n",
       "  0.6801333427429199,\n",
       "  0.8286333084106445,\n",
       "  0.8726999759674072,\n",
       "  0.8902666568756104,\n",
       "  0.8988166451454163,\n",
       "  0.9056166410446167,\n",
       "  0.9098833203315735,\n",
       "  0.9136499762535095,\n",
       "  0.9168999791145325,\n",
       "  0.9195333123207092,\n",
       "  0.9222166538238525,\n",
       "  0.9247000217437744,\n",
       "  0.9264666438102722,\n",
       "  0.9285500049591064,\n",
       "  0.9316999912261963,\n",
       "  0.9336833357810974,\n",
       "  0.9352666735649109,\n",
       "  0.9373499751091003,\n",
       "  0.9387666583061218,\n",
       "  0.9401999711990356,\n",
       "  0.9419500231742859,\n",
       "  0.9427666664123535,\n",
       "  0.9445666670799255,\n",
       "  0.9452000260353088],\n",
       " 'loss': [2.2256548404693604,\n",
       "  1.751702904701233,\n",
       "  0.7719891667366028,\n",
       "  0.47148388624191284,\n",
       "  0.39068835973739624,\n",
       "  0.35209089517593384,\n",
       "  0.3277818560600281,\n",
       "  0.3103332221508026,\n",
       "  0.2967474162578583,\n",
       "  0.2850964069366455,\n",
       "  0.2750871181488037,\n",
       "  0.2659482955932617,\n",
       "  0.2575233280658722,\n",
       "  0.25005167722702026,\n",
       "  0.2427152842283249,\n",
       "  0.23568248748779297,\n",
       "  0.22918714582920074,\n",
       "  0.22276897728443146,\n",
       "  0.21683959662914276,\n",
       "  0.21111337840557098,\n",
       "  0.20573119819164276,\n",
       "  0.20036129653453827,\n",
       "  0.19560343027114868,\n",
       "  0.19053713977336884,\n",
       "  0.18633846938610077],\n",
       " 'val_accuracy': [0.5655999779701233,\n",
       "  0.7918999791145325,\n",
       "  0.8651999831199646,\n",
       "  0.8901000022888184,\n",
       "  0.904699981212616,\n",
       "  0.9103999733924866,\n",
       "  0.9154999852180481,\n",
       "  0.9186999797821045,\n",
       "  0.9233999848365784,\n",
       "  0.9248999953269958,\n",
       "  0.9262999892234802,\n",
       "  0.9301000237464905,\n",
       "  0.9309999942779541,\n",
       "  0.9334999918937683,\n",
       "  0.9341999888420105,\n",
       "  0.9361000061035156,\n",
       "  0.9380000233650208,\n",
       "  0.9387000203132629,\n",
       "  0.9395999908447266,\n",
       "  0.9424999952316284,\n",
       "  0.9434999823570251,\n",
       "  0.9440000057220459,\n",
       "  0.9448999762535095,\n",
       "  0.9452999830245972,\n",
       "  0.9470000267028809],\n",
       " 'val_loss': [2.110907554626465,\n",
       "  1.1613563299179077,\n",
       "  0.5239064693450928,\n",
       "  0.3975277841091156,\n",
       "  0.3478067219257355,\n",
       "  0.3198087215423584,\n",
       "  0.29966336488723755,\n",
       "  0.28866681456565857,\n",
       "  0.2747753858566284,\n",
       "  0.26431599259376526,\n",
       "  0.2562425136566162,\n",
       "  0.24731171131134033,\n",
       "  0.24111901223659515,\n",
       "  0.23389409482479095,\n",
       "  0.2280849665403366,\n",
       "  0.22275173664093018,\n",
       "  0.21628715097904205,\n",
       "  0.21186095476150513,\n",
       "  0.2060055136680603,\n",
       "  0.20041242241859436,\n",
       "  0.1964196413755417,\n",
       "  0.19072803854942322,\n",
       "  0.1865270882844925,\n",
       "  0.18664464354515076,\n",
       "  0.1778184026479721]}"
      ]
     },
     "execution_count": 20,
     "metadata": {},
     "output_type": "execute_result"
    }
   ],
   "source": [
    "history_dict = history.history\n",
    "history_dict"
   ]
  },
  {
   "cell_type": "code",
   "execution_count": 22,
   "id": "4023c68b-8fb4-4c7b-852d-ccfe31a744be",
   "metadata": {},
   "outputs": [
    {
     "data": {
      "image/png": "[encoded data removed]",
      "text/plain": [
       "<Figure size 640x480 with 1 Axes>"
      ]
     },
     "metadata": {},
     "output_type": "display_data"
    }
   ],
   "source": [
    "# Plotagem de nossos gráficos de perdas\n",
    "import matplotlib.pyplot as plt\n",
    "\n",
    "history_dict = history.history\n",
    "\n",
    "loss_values = history_dict['loss']\n",
    "val_loss_values = history_dict['val_loss']\n",
    "# Obtenha o número de épocas e crie uma matriz até esse número usando range()\n",
    "epochs = range(1, len(loss_values) + 1)\n",
    "\n",
    "# Plote gráficos de linha para a perda de validação e treinamento\n",
    "line1 = plt.plot(epochs, val_loss_values, label='Validation/Test Loss')\n",
    "line2 = plt.plot(epochs, loss_values, label='Training Loss')\n",
    "plt.setp(line1, linewidth=2.0, marker = '+', markersize=10.0)\n",
    "plt.setp(line2, linewidth=2.0, marker = '4', markersize=10.0)\n",
    "plt.xlabel('Épocas') \n",
    "plt.ylabel('Perda')\n",
    "plt.grid(True)\n",
    "plt.legend()\n",
    "plt.show()"
   ]
  },
  {
   "cell_type": "code",
   "execution_count": 23,
   "id": "aaa9042e-4436-43eb-bc70-0e76318f37c0",
   "metadata": {},
   "outputs": [
    {
     "data": {
      "image/png": "[encoded data removed]",
      "text/plain": [
       "<Figure size 640x480 with 1 Axes>"
      ]
     },
     "metadata": {},
     "output_type": "display_data"
    }
   ],
   "source": [
    "#GRAFICO DA ACURÁCIA\n",
    "\n",
    "history_dict = history.history\n",
    "\n",
    "acc_values = history_dict['accuracy']\n",
    "val_acc_values = history_dict['val_accuracy']\n",
    "epochs = range(1, len(loss_values) + 1)\n",
    "\n",
    "line1 = plt.plot(epochs, val_acc_values, label='Validation/Test Accuracy')\n",
    "line2 = plt.plot(epochs, acc_values, label='Training Accuracy')\n",
    "plt.setp(line1, linewidth=2.0, marker = '+', markersize=10.0)\n",
    "plt.setp(line2, linewidth=2.0, marker = '4', markersize=10.0)\n",
    "plt.xlabel('Épocas') \n",
    "plt.ylabel('Acurácia')\n",
    "plt.grid(True)\n",
    "plt.legend()\n",
    "plt.show()"
   ]
  },
  {
   "cell_type": "markdown",
   "id": "76a07a11-dbb8-4922-97d8-540ec98c1087",
   "metadata": {},
   "source": [
    "## **8. Salvando e carregando nosso modelo**\n",
    "\n",
    "**Salvar o nosso modelo é simples, basta usar:**\n",
    "\n",
    " ```model.save(“nome_do_arquivo_do_modelo.h5”)```"
   ]
  },
  {
   "cell_type": "code",
   "execution_count": 24,
   "id": "1535d84c-a15b-4959-9dc3-fed62e790923",
   "metadata": {},
   "outputs": [
    {
     "name": "stderr",
     "output_type": "stream",
     "text": [
      "WARNING:absl:You are saving your model as an HDF5 file via `model.save()` or `keras.saving.save_model(model)`. This file format is considered legacy. We recommend using instead the native Keras format, e.g. `model.save('my_model.keras')` or `keras.saving.save_model(model, 'my_model.keras')`. \n"
     ]
    },
    {
     "name": "stdout",
     "output_type": "stream",
     "text": [
      "Model Saved\n"
     ]
    }
   ],
   "source": [
    "model.save(\"mnist_simple_cnn_25_Epochs.h5\")\n",
    "print(\"Model Saved\")"
   ]
  },
  {
   "cell_type": "markdown",
   "id": "90d40ca4-d9bc-4358-ac95-3454de7bddd6",
   "metadata": {},
   "source": [
    "## Carregando o modelo"
   ]
  },
  {
   "cell_type": "code",
   "execution_count": 25,
   "id": "b38a9244-2201-4fcf-94a9-ea7e10831663",
   "metadata": {},
   "outputs": [
    {
     "name": "stderr",
     "output_type": "stream",
     "text": [
      "WARNING:absl:Compiled the loaded model, but the compiled metrics have yet to be built. `model.compile_metrics` will be empty until you train or evaluate the model.\n"
     ]
    }
   ],
   "source": [
    "from tensorflow.keras.models import load_model\n",
    "\n",
    "classifier = load_model('mnist_simple_cnn_25_Epochs.h5')"
   ]
  },
  {
   "cell_type": "markdown",
   "id": "b71f887d-98b7-485e-b949-1bdba9d60bb8",
   "metadata": {},
   "source": [
    "## **9. Obtendo previsões de nossos dados de teste de amostra**\n",
    "\n",
    "**Previsão de todos os dados de teste**"
   ]
  },
  {
   "cell_type": "code",
   "execution_count": 26,
   "id": "d8c4d621-2363-4e00-8356-e77c8bc3dee4",
   "metadata": {},
   "outputs": [
    {
     "name": "stdout",
     "output_type": "stream",
     "text": [
      "(10000, 28, 28, 1)\n",
      "Previsão de classes para todos os 10,000 dados de teste...\n",
      "\u001b[1m313/313\u001b[0m \u001b[32m━━━━━━━━━━━━━━━━━━━━\u001b[0m\u001b[37m\u001b[0m \u001b[1m1s\u001b[0m 2ms/step\n",
      "Completado.\n",
      "\n",
      "[7 2 1 ... 4 5 6]\n",
      "<class 'numpy.ndarray'>\n",
      "10000\n"
     ]
    }
   ],
   "source": [
    "print(x_test.shape)\n",
    "\n",
    "print(\"Previsão de classes para todos os 10,000 dados de teste...\")\n",
    "\n",
    "pred = np.argmax(classifier.predict(x_test), axis=-1)\n",
    "print(\"Completado.\\n\")\n",
    "\n",
    "print(pred)\n",
    "print(type(pred)) #Retorna um ARRAY NUMPY \n",
    "print(len(pred))"
   ]
  },
  {
   "cell_type": "code",
   "execution_count": null,
   "id": "949c5376-7585-424c-8df7-c1b13d523717",
   "metadata": {},
   "outputs": [],
   "source": []
  }
 ],
 "metadata": {
  "kernelspec": {
   "display_name": "Python 3 (ipykernel)",
   "language": "python",
   "name": "python3"
  },
  "language_info": {
   "codemirror_mode": {
    "name": "ipython",
    "version": 3
   },
   "file_extension": ".py",
   "mimetype": "text/x-python",
   "name": "python",
   "nbconvert_exporter": "python",
   "pygments_lexer": "ipython3",
   "version": "3.12.3"
  }
 },
 "nbformat": 4,
 "nbformat_minor": 5
}
